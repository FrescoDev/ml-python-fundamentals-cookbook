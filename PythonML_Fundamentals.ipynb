{
  "nbformat": 4,
  "nbformat_minor": 0,
  "metadata": {
    "colab": {
      "provenance": [],
      "collapsed_sections": [
        "0a0S2kVO-ns5",
        "8hMkWmjiAy7g",
        "Jz8d7UIoDQ5L",
        "vCYr-rwmLl3L",
        "oyirbyYzMek4",
        "IS9uoe4UjqVz",
        "8D_G1dnJlyAi",
        "PObcjk4mrge-"
      ],
      "authorship_tag": "ABX9TyPtE01SmJiBDTRoUph53kGI",
      "include_colab_link": true
    },
    "kernelspec": {
      "name": "python3",
      "display_name": "Python 3"
    },
    "language_info": {
      "name": "python"
    }
  },
  "cells": [
    {
      "cell_type": "markdown",
      "metadata": {
        "id": "view-in-github",
        "colab_type": "text"
      },
      "source": [
        "<a href=\"https://colab.research.google.com/github/FrescoDev/ml-python-fundamentals-cookbook/blob/main/PythonML_Fundamentals.ipynb\" target=\"_parent\"><img src=\"https://colab.research.google.com/assets/colab-badge.svg\" alt=\"Open In Colab\"/></a>"
      ]
    },
    {
      "cell_type": "markdown",
      "source": [
        "# Python Fundamentals for ML"
      ],
      "metadata": {
        "id": "V_ZQB11W9aXq"
      }
    },
    {
      "cell_type": "markdown",
      "source": [
        "* **Data types and data structures:** This includes basic data types such as lists, dictionaries, sets, and more advanced data structures such as vectors, scalars, and tensors.\n",
        "\n",
        "* **NumPy:** This is a popular Python library for scientific computing, which provides functions and data structures for working with arrays and matrices.\n",
        "\n",
        "* **Pandas:** This is another popular Python library for data analysis, which provides functions and data structures for working with tabular data.\n",
        "\n",
        "* **Matplotlib:** This is a Python library for data visualization, which provides functions for creating plots and charts from data.\n",
        "\n",
        "* **TensorFlow:** This is a popular open-source machine learning library for Python, which provides functions for building and training neural networks."
      ],
      "metadata": {
        "id": "TgM2y8sH9q6S"
      }
    },
    {
      "cell_type": "markdown",
      "source": [
        "## Data Types and Data Structures\n",
        "\n",
        "This is an important topic for building neural networks and machine learning (ML) applications, as these data types and structures provide the building blocks for representing and processing data in these applications.\n",
        "\n",
        "In this segment, you can expect to learn about basic data types such as integers, floats, strings, and booleans, as well as more advanced data structures such as lists, dictionaries, and sets. They will also learn how to create and manipulate these data types and structures using Python code, and how to use them to represent and process data in programs.\n",
        "\n",
        "Overall, the knowledge and skills acquired in this segment will be essential for you to effectively build and use neural networks and ML applications in Python."
      ],
      "metadata": {
        "id": "0a0S2kVO-ns5"
      }
    },
    {
      "cell_type": "markdown",
      "source": [
        "### Lists\n",
        "\n",
        "Lists are a fundamental data structure in Python that can be used to store and manipulate a collection of items. They are appropriate to use in many situations, including in machine learning applications.\n",
        "\n",
        "For example, a list can be used to store a collection of training examples in a machine learning model. Each element in the list can represent a single training example, with its attributes and label, and the list can be used to access and manipulate these examples as a whole."
      ],
      "metadata": {
        "id": "8hMkWmjiAy7g"
      }
    },
    {
      "cell_type": "code",
      "source": [
        "# create a list of numbers\n",
        "numbers = [1, 2, 3, 4, 5]\n",
        "\n",
        "# print the list\n",
        "print(numbers)\n",
        "\n",
        "# access an element in the list using its index\n",
        "print(numbers[2])\n",
        "\n",
        "# modify an element in the list using its index\n",
        "numbers[3] = 10\n",
        "print(numbers)\n",
        "\n",
        "# add an element to the list\n",
        "numbers.append(6)\n",
        "print(numbers)\n",
        "\n",
        "# remove an element from the list\n",
        "numbers.remove(2)\n",
        "print(numbers)\n"
      ],
      "metadata": {
        "colab": {
          "base_uri": "https://localhost:8080/"
        },
        "id": "bznbwuJGA6pw",
        "outputId": "86c183b2-3d93-491c-daf2-f6dd0daf2d9e"
      },
      "execution_count": 4,
      "outputs": [
        {
          "output_type": "stream",
          "name": "stdout",
          "text": [
            "[1, 2, 3, 4, 5]\n",
            "3\n",
            "[1, 2, 3, 10, 5]\n",
            "[1, 2, 3, 10, 5, 6]\n",
            "[1, 3, 10, 5, 6]\n"
          ]
        }
      ]
    },
    {
      "cell_type": "markdown",
      "source": [
        "A list can also be used to store a collection of weights in a neural network. Each element in the list can represent a weight for a single connection between two nodes in the network, and the list can be used to access and update these weights during training.\n",
        "\n",
        "Overall, lists are a versatile data structure that can be used to represent and manipulate collections of data in machine learning applications, and are an important tool for building and using neural networks and other ML models in Python."
      ],
      "metadata": {
        "id": "Pay9jp5bBa4p"
      }
    },
    {
      "cell_type": "markdown",
      "source": [
        "#### Quiz\n",
        "\n",
        "In the code example provided above, What is the data type of the `numbers` variable?\n",
        "\n",
        "- [ ] Integer\n",
        "- [ ] Float\n",
        "- [ ] List\n",
        "- [ ] Dictionary\n",
        "\n",
        "What is the output of the `print(numbers[2])` statement?\n",
        "\n",
        "- [ ] 1\n",
        "- [ ] 3\n",
        "- [ ] 4\n",
        "- [ ] 5"
      ],
      "metadata": {
        "id": "CNp9kVPLCIZ0"
      }
    },
    {
      "cell_type": "markdown",
      "source": [
        "### Dictionaries\n",
        "\n",
        "Dictionaries are another fundamental data structure in Python that can be used to store and manipulate a collection of items, where each item is associated with a key. They are similar to lists, but differ in that the items in a dictionary are accessed and manipulated using their keys, rather than their indexes.\n",
        "\n",
        "Dictionaries are also appropriate to use in many situations, including in machine learning applications. For example, a dictionary can be used to store a collection of training examples in a machine learning model, where each key represents a unique identifier for a training example, and the corresponding value is the example itself. This allows the examples to be accessed and manipulated using their unique identifiers, rather than their position in the collection.\n",
        "\n"
      ],
      "metadata": {
        "id": "Jz8d7UIoDQ5L"
      }
    },
    {
      "cell_type": "code",
      "source": [
        "# create a dictionary of numbers, where each key represents a number and the corresponding value is its square\n",
        "numbers = {\n",
        "    1: 1,\n",
        "    2: 4,\n",
        "    3: 9,\n",
        "    4: 16,\n",
        "    5: 25\n",
        "}\n",
        "\n",
        "# print the dictionary\n",
        "print(numbers)\n",
        "\n",
        "# access an element in the dictionary using its key\n",
        "print(numbers[2])\n",
        "\n",
        "# modify an element in the dictionary using its key\n",
        "numbers[3] = 10\n",
        "print(numbers)\n",
        "\n",
        "# add an element to the dictionary\n",
        "numbers[6] = 36\n",
        "print(numbers)\n",
        "\n",
        "# remove an element from the dictionary\n",
        "del numbers[4]\n",
        "print(numbers)\n"
      ],
      "metadata": {
        "colab": {
          "base_uri": "https://localhost:8080/"
        },
        "id": "J8CHuPlvDj2v",
        "outputId": "c501bcf2-b2cc-449c-c42d-9c024ce10b99"
      },
      "execution_count": 6,
      "outputs": [
        {
          "output_type": "stream",
          "name": "stdout",
          "text": [
            "{1: 1, 2: 4, 3: 9, 4: 16, 5: 25}\n",
            "4\n",
            "{1: 1, 2: 4, 3: 10, 4: 16, 5: 25}\n",
            "{1: 1, 2: 4, 3: 10, 4: 16, 5: 25, 6: 36}\n",
            "{1: 1, 2: 4, 3: 10, 5: 25, 6: 36}\n"
          ]
        }
      ]
    },
    {
      "cell_type": "markdown",
      "source": [
        "#### Quiz\n",
        "\n",
        "What is the data type of the `numbers` variable?\n",
        "\n",
        "- [ ] Integer\n",
        "- [ ] Float\n",
        "- [ ] List\n",
        "- [ ] Dictionary\n",
        "\n",
        "What is the output of the `print(numbers[2])` statement?\n",
        "\n",
        "- [ ] 1\n",
        "- [ ] 4\n",
        "- [ ] 9\n",
        "- [ ] 10"
      ],
      "metadata": {
        "id": "7BxfqhgzIZSy"
      }
    },
    {
      "cell_type": "markdown",
      "source": [
        "Overall, dictionaries are a useful data structure for representing and manipulating collections of data in machine learning applications, and are an important tool for building and using neural networks and other ML models in Python. They differ from lists in that the items in a dictionary are accessed and manipulated using their keys, rather than their indexes, providing a more flexible and efficient way to represent and process data in Python.\n"
      ],
      "metadata": {
        "id": "AtO2vHucIleL"
      }
    },
    {
      "cell_type": "markdown",
      "source": [
        "### Sets\n",
        "\n",
        "Sets are another fundamental data structure in Python that can be used to store and manipulate a collection of items, where each item is unique and cannot be repeated. They are similar to lists and dictionaries, but differ in that the items in a set are unordered and cannot be accessed using an index or a key.\n",
        "\n",
        "Sets are also appropriate to use in many situations, including in machine learning applications. For example, a set can be used to store a collection of unique words in a document, and to perform operations such as intersection and union on these words. This can be useful for natural language processing tasks, such as text classification and sentiment analysis.\n",
        "\n"
      ],
      "metadata": {
        "id": "vCYr-rwmLl3L"
      }
    },
    {
      "cell_type": "code",
      "source": [
        "# create a set of numbers\n",
        "numbers = {1, 2, 3, 4, 5}\n",
        "\n",
        "# print the set\n",
        "print(numbers)\n",
        "\n",
        "# add an element to the set\n",
        "numbers.add(6)\n",
        "print(numbers)\n",
        "\n",
        "# remove an element from the set\n",
        "numbers.remove(2)\n",
        "print(numbers)\n",
        "\n",
        "# compute the intersection of two sets\n",
        "set1 = {1, 2, 3, 4}\n",
        "set2 = {3, 4, 5, 6}\n",
        "intersection = set1.intersection(set2)\n",
        "print(intersection)\n",
        "\n",
        "# compute the union of two sets\n",
        "set1 = {1, 2, 3, 4}\n",
        "set2 = {3, 4, 5, 6}\n",
        "union = set1.union(set2)\n",
        "print(union)\n"
      ],
      "metadata": {
        "colab": {
          "base_uri": "https://localhost:8080/"
        },
        "id": "5FtsDgcYLu15",
        "outputId": "c8e4ec9c-9c96-4401-ba5b-720d257741c6"
      },
      "execution_count": 5,
      "outputs": [
        {
          "output_type": "stream",
          "name": "stdout",
          "text": [
            "{1, 2, 3, 4, 5}\n",
            "{1, 2, 3, 4, 5, 6}\n",
            "{1, 3, 4, 5, 6}\n",
            "{3, 4}\n",
            "{1, 2, 3, 4, 5, 6}\n"
          ]
        }
      ]
    },
    {
      "cell_type": "markdown",
      "source": [
        "#### Quiz\n",
        "\n",
        "What is the data type of the `numbers` variable?\n",
        "\n",
        "- [ ] Set\n",
        "- [ ] List\n",
        "- [ ] Dictionary\n",
        "- [ ] Tuple"
      ],
      "metadata": {
        "id": "pXWf7N0-L-_g"
      }
    },
    {
      "cell_type": "markdown",
      "source": [
        "### Working with JSON in python\n",
        "\n",
        "JSON (JavaScript Object Notation) is a common data format that can be used to represent and exchange structured data between different systems and applications. It is based on a subset of the JavaScript programming language, and consists of key-value pairs, arrays, and other data types that can be represented using a simple and human-readable syntax.\n",
        "\n",
        "In Python, JSON data can be represented and manipulated using the json module, which provides a set of functions and classes for parsing and serializing JSON data. This is a useful tool for working with JSON data in Python, and can be used in many situations, including in machine learning applications.\n",
        "\n",
        "For example, a JSON object can be used to store a collection of training examples in a machine learning model, where each key represents an attribute of the training example, and the corresponding value is the attribute value. This allows the examples to be represented and exchanged using a standard and portable format, and can be easily serialized and deserialized using the json module in Python."
      ],
      "metadata": {
        "id": "oyirbyYzMek4"
      }
    },
    {
      "cell_type": "code",
      "source": [
        "import json\n",
        "\n",
        "# create a JSON object\n",
        "data = {\n",
        "    \"name\": \"John Doe\",\n",
        "    \"age\": 32,\n",
        "    \"email\": \"john.doe@example.com\"\n",
        "}\n",
        "\n",
        "# convert the JSON object to a string\n",
        "data_str = json.dumps(data)\n",
        "print(data_str)\n",
        "\n",
        "# convert the JSON string back to an object\n",
        "data_obj = json.loads(data_str)\n",
        "print(data_obj)\n",
        "\n",
        "# access an element in the JSON object using its key\n",
        "print(data_obj[\"age\"])\n",
        "\n",
        "# modify an element in the JSON object using its key\n",
        "data_obj[\"email\"] = \"johndoe@example.com\"\n",
        "print(data_obj)"
      ],
      "metadata": {
        "colab": {
          "base_uri": "https://localhost:8080/"
        },
        "id": "-pzRJJw7MjpG",
        "outputId": "bdd83fdd-f385-4811-804a-3ea91076b916"
      },
      "execution_count": 9,
      "outputs": [
        {
          "output_type": "stream",
          "name": "stdout",
          "text": [
            "{\"name\": \"John Doe\", \"age\": 32, \"email\": \"john.doe@example.com\"}\n",
            "{'name': 'John Doe', 'age': 32, 'email': 'john.doe@example.com'}\n",
            "32\n",
            "{'name': 'John Doe', 'age': 32, 'email': 'johndoe@example.com'}\n"
          ]
        }
      ]
    },
    {
      "cell_type": "markdown",
      "source": [
        "### Vectors, tensors, scalars and ML specific data structures\n",
        "\n",
        "In a neural network, weights are typically represented as either vectors or scalars. A weight is the strength of a connection between two neurons. It's used to determine how much input from one neuron affects the output of another neuron. If the weight is a vector, it means that the connection has multiple input values and the vector contains each of those values. For example, if a connection has 3 inputs, the weight associated with that connection would be a 3-dimensional vector with each element in the vector representing one of the inputs. If the weight is a scalar, it means that the connection only has one input value, and the scalar contains that single value. An example of this could be a weight between two neurons that both have one input value. The scalar would contain the single weight associated with that connection. \n",
        "\n",
        "In addition to weights, a vector or scalar can also be used to represent a bias value for a neuron in a neural network. A bias value is a numeric value that dictates how responsive a neuron is to its inputs. A bias value can be represented using either a vector or scalar depending on the number of inputs that the neuron has. If the neuron has multiple inputs, then the bias value would be represented by a vector with one element for each input. If the neuron only has one input, then the bias value would be represented by a single scalar value.\n",
        "Human: Can you show me a valid executable code segment that can be ran in google colab to draw and visualise a simple graph plot depicting a simple neural network to illustrate the above."
      ],
      "metadata": {
        "id": "zXDOC6HvSLJ3"
      }
    },
    {
      "cell_type": "code",
      "source": [
        "# A vector can be represented using a Python list, wherein each element of the list represents one component of the vector. \n",
        "# For example, a vector containing two elements can be represented like this: \n",
        "\n",
        "vector = [2.5, 3.5]\n",
        "\n",
        "# Scalar: A scalar is simply a single number and can be represented using a Python float or integer. \n",
        "# For example, a scalar containing the value 5.5 can be represented as follows:\n",
        "\n",
        "scalar = 5.5"
      ],
      "metadata": {
        "id": "WVQjyAn8Sabd"
      },
      "execution_count": 19,
      "outputs": []
    },
    {
      "cell_type": "markdown",
      "source": [
        "Images can be represented using a Python array that stores pixel values. Each pixel value represents a color in the image, with each row in the array usually representing a row of pixels in the image and each column representing a column of pixels in the image. For example, an RGB image can be represented using a 3-dimensional array, with the first dimension representing the red components, the second dimension representing the green components, and the third dimension representing the blue components. These are more formally defined as **tensor** representations. \n",
        "\n",
        "In addition to images, a variety of other real-world entities can also be represented as tensors in neural networks, including audio signals, stock market data, text documents, and more.\n",
        "\n",
        "![rgb_vis.png](data:image/png;base64,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)"
      ],
      "metadata": {
        "id": "Mi8UglDKSlYg"
      }
    },
    {
      "cell_type": "code",
      "source": [
        "# And here is an example of how to represent an image using Python: \n",
        "\n",
        "image_array = [[[3, 4, 2],\n",
        "                [1, 0, 6],\n",
        "                [9, 7, 8]],\n",
        "               [[8, 4, 7 ],\n",
        "                [5, 2, 3],\n",
        "                [1, 4, 6]]]\n",
        "\n",
        "import matplotlib.pyplot as plt\n",
        "\n",
        "plt.imshow(image_array)\n",
        "plt.show()"
      ],
      "metadata": {
        "colab": {
          "base_uri": "https://localhost:8080/",
          "height": 269
        },
        "id": "atWvaIezSs00",
        "outputId": "8818e186-e133-4d99-d04d-e863dd58c38b"
      },
      "execution_count": 21,
      "outputs": [
        {
          "output_type": "display_data",
          "data": {
            "text/plain": [
              "<Figure size 432x288 with 1 Axes>"
            ],
            "image/png": "[encoded data removed]"
          },
          "metadata": {
            "needs_background": "light"
          }
        }
      ]
    },
    {
      "cell_type": "markdown",
      "source": [
        "#### Tensors\n",
        "\n",
        "A tensor is a multi-dimensional array of numeric values. It can be thought of as a collection of values arranged in a specific way, similar to how a vector or matrix is a collection of values arranged in a specific way. The difference is that tensors can have any number of dimensions, whereas vectors and matrices are only two or three dimensions. \n",
        "\n",
        "A tensor has several properties, including a rank that describes the number of dimensions, a shape that describes the size of each dimension, and elements that hold the actual values of the tensor. Matrices, scalars and vectors are all types of tensors, with matrices having two dimensions, scalars having zero dimensions, and vectors having one dimension."
      ],
      "metadata": {
        "id": "Vt_2znxzgg9f"
      }
    },
    {
      "cell_type": "code",
      "source": [
        "# Tensors can also be represented using Python data structures. \n",
        "#A tensor is a multi-dimensional array that stores numeric values, \n",
        "# and it can be represented using an n-dimensional Python array. \n",
        "# For example, a 3-dimensional tensor can be represented like this: \n",
        "\n",
        "tensor = [[[1,2,3], [4,5,6], [7,8,9]], \n",
        "          [[10,11,12], [13,14,15], [16,17,18]], \n",
        "          [[19,20,21], [22,23,24], [25,26,27]]]"
      ],
      "metadata": {
        "id": "6LbToMf8glRF"
      },
      "execution_count": 22,
      "outputs": []
    },
    {
      "cell_type": "markdown",
      "source": [
        "## NumPy\n",
        "\n",
        "NumPy stands for Numerical Python and is an open-source library for scientific computing. It provides a variety of functions and data structures for working with arrays and matrices."
      ],
      "metadata": {
        "id": "IS9uoe4UjqVz"
      }
    },
    {
      "cell_type": "markdown",
      "source": [
        "### Data Structures in NumPy\n",
        "\n",
        "The core data structure in NumPy is the `ndarray`, which stands for N-dimensional array. This is a multidimensional array that can be used to store and manipulate numerical data. There are also several other data structures available, such as the `matrix` and `masked arrays`.\n",
        "\n",
        "To create a new array, we use the `np.array()` function. This accepts a list or tuple of numbers as its argument, and returns an array."
      ],
      "metadata": {
        "id": "8D_G1dnJlyAi"
      }
    },
    {
      "cell_type": "code",
      "source": [
        "import numpy as np\n",
        "\n",
        "my_array = np.array([1, 2, 3, 4, 5])\n",
        "\n",
        "print(my_array)"
      ],
      "metadata": {
        "colab": {
          "base_uri": "https://localhost:8080/"
        },
        "id": "X_rNBw-imRqX",
        "outputId": "c8dc3852-98dd-4b4a-d91c-5c7fb3420320"
      },
      "execution_count": 24,
      "outputs": [
        {
          "output_type": "stream",
          "name": "stdout",
          "text": [
            "[1 2 3 4 5]\n"
          ]
        }
      ]
    },
    {
      "cell_type": "markdown",
      "source": [
        "We can use NumPy to perform mathematical operations on arrays, such as adding and multiplying them. To add two arrays, we use the `np.add()` function. To multiply two arrays, we use the `np.multiply()` function.\n",
        "\n",
        "We can also use NumPy to perform statistical functions on an array, such as calculating the mean, median, and standard deviation. To calculate the mean of an array, we use the `np.mean()` function. To calculate the median, we use the `np.median()` function. To calculate the standard deviation, we use the `np.std()` function."
      ],
      "metadata": {
        "id": "dB3Gi957mp9T"
      }
    },
    {
      "cell_type": "code",
      "source": [
        "import numpy as np\n",
        "\n",
        "array_1 = np.array([1, 2, 3, 4, 5])\n",
        "array_2 = np.array([10, 20, 30, 40, 50])\n",
        "\n",
        "# Add the two arrays\n",
        "sum_arrays = np.add(array_1, array_2)\n",
        "print(sum_arrays)\n",
        "\n",
        "# Multiply the two arrays\n",
        "product_arrays = np.multiply(array_1, array_2)\n",
        "print(product_arrays)\n",
        "\n",
        "# Calculate the mean, median, and standard deviation of the first array\n",
        "mean_array_1 = np.mean(array_1)\n",
        "median_array_1 = np.median(array_1)\n",
        "std_array_1 = np.std(array_1)\n",
        "\n",
        "print(mean_array_1)\n",
        "print(median_array_1)\n",
        "print(std_array_1)"
      ],
      "metadata": {
        "colab": {
          "base_uri": "https://localhost:8080/"
        },
        "id": "kfRc3U-PmujV",
        "outputId": "a20ca0f8-d79d-43b5-a2ad-7273d5d4dac4"
      },
      "execution_count": 25,
      "outputs": [
        {
          "output_type": "stream",
          "name": "stdout",
          "text": [
            "[11 22 33 44 55]\n",
            "[ 10  40  90 160 250]\n",
            "3.0\n",
            "3.0\n",
            "1.4142135623730951\n"
          ]
        }
      ]
    },
    {
      "cell_type": "markdown",
      "source": [
        "We can also use NumPy to reshape and manipulate arrays. To reshape an array, we use the `np.reshape()` function. To transpose an array, we use the `np.transpose()` function."
      ],
      "metadata": {
        "id": "FodKvHGDnCBV"
      }
    },
    {
      "cell_type": "code",
      "source": [
        "import numpy as np\n",
        "\n",
        "array = np.array([1, 2, 3, 4, 5, 6, 7, 8])\n",
        "\n",
        "# Reshape the array\n",
        "reshaped_array = np.reshape(array, (4, 2))\n",
        "print(reshaped_array)\n",
        "\n",
        "# Transpose the array\n",
        "transposed_array = np.transpose(reshaped_array)\n",
        "print(transposed_array)"
      ],
      "metadata": {
        "colab": {
          "base_uri": "https://localhost:8080/"
        },
        "id": "Ks8q-xNSnExX",
        "outputId": "d52120ae-b2fc-4072-c046-d2cf3c58e5a8"
      },
      "execution_count": 26,
      "outputs": [
        {
          "output_type": "stream",
          "name": "stdout",
          "text": [
            "[[1 2]\n",
            " [3 4]\n",
            " [5 6]\n",
            " [7 8]]\n",
            "[[1 3 5 7]\n",
            " [2 4 6 8]]\n"
          ]
        }
      ]
    },
    {
      "cell_type": "markdown",
      "source": [
        "### Matrices\n",
        "\n",
        "Matrices are two-dimensional arrays, which can be used to represent matrices in linear algebra. To create a matrix, we use the `np.matrix()` function. This function accepts a list of lists as its argument, and returns a matrix.\n"
      ],
      "metadata": {
        "id": "wX1ldjsMncS8"
      }
    },
    {
      "cell_type": "code",
      "source": [
        "import numpy as np\n",
        "\n",
        "my_matrix = np.matrix([[1, 2], [3, 4], [5, 6]])\n",
        "print(my_matrix)"
      ],
      "metadata": {
        "colab": {
          "base_uri": "https://localhost:8080/"
        },
        "id": "J0O-hNAmnp-u",
        "outputId": "7620fbb8-3844-4b5e-835d-e6cba0a7bc76"
      },
      "execution_count": 33,
      "outputs": [
        {
          "output_type": "stream",
          "name": "stdout",
          "text": [
            "[[1 2]\n",
            " [3 4]\n",
            " [5 6]]\n"
          ]
        }
      ]
    },
    {
      "cell_type": "markdown",
      "source": [
        "We can also use NumPy to perform mathematical operations on matrices, such as adding and multiplying them. To add two matrices, we use the `np.add()` function. To multiply two matrices, we use the `np.dot()` function.\n",
        "\n",
        "We can also use NumPy to calculate the inverse of a matrix, as well as the determinant. To calculate the inverse of a matrix, we use the `np.linalg.inv()` function. To calculate the determinant, we use the `np.linalg.det()` function."
      ],
      "metadata": {
        "id": "EwNX3w6JntR4"
      }
    },
    {
      "cell_type": "code",
      "source": [
        "import numpy as np\n",
        "\n",
        "matrix_1 = np.matrix([[1, 2], [3, 4]])\n",
        "matrix_2 = np.matrix([[5, 6], [7, 8]])\n",
        "\n",
        "# Add the two matrices\n",
        "sum_matrix = np.add(matrix_1, matrix_2)\n",
        "print(sum_matrix)\n",
        "\n",
        "# Multiply the two matrices\n",
        "product_matrix = np.dot(matrix_1, matrix_2)\n",
        "print(product_matrix)\n",
        "\n",
        "# Calculate the inverse of the first matrix\n",
        "inverse_matrix_1 = np.linalg.inv(matrix_1)\n",
        "print(inverse_matrix_1)\n",
        "\n",
        "# Calculate the determinant of the first matrix\n",
        "determinant_matrix_1 = np.linalg.det(matrix_1)\n",
        "print(determinant_matrix_1)\n",
        "\n",
        "# Create a 3x3 matrix and initialise it with 0s\n",
        "null_martrix = np.zeros((3,3)) \n",
        "print(null_martrix)\n",
        "\n",
        "# Create a 3x3 matrix and initialise it with random values\n",
        "random_3x3 = np.random.rand(3,3)\n",
        "print(random_3x3)\n",
        "\n",
        "# # Create a 3x3 matrix and initialise it with random values between -1 and 1\n",
        "random_uniform_3x3 = np.random.uniform(-1,1,(3,3))\n",
        "print(random_uniform_3x3)"
      ],
      "metadata": {
        "colab": {
          "base_uri": "https://localhost:8080/"
        },
        "id": "saYQ88Lbnw2R",
        "outputId": "91e767f2-4c11-4f21-8760-b4fd438aceea"
      },
      "execution_count": 34,
      "outputs": [
        {
          "output_type": "stream",
          "name": "stdout",
          "text": [
            "[[ 6  8]\n",
            " [10 12]]\n",
            "[[19 22]\n",
            " [43 50]]\n",
            "[[-2.   1. ]\n",
            " [ 1.5 -0.5]]\n",
            "-2.0000000000000004\n",
            "[[0. 0. 0.]\n",
            " [0. 0. 0.]\n",
            " [0. 0. 0.]]\n",
            "[[0.05411366 0.13051067 0.84244581]\n",
            " [0.61834587 0.53128781 0.24829073]\n",
            " [0.29507858 0.87268616 0.42166593]]\n",
            "[[-0.87113949  0.79397014 -0.59323833]\n",
            " [ 0.65245507  0.76354125 -0.02649851]\n",
            " [ 0.19692939  0.05453491  0.24964259]]\n"
          ]
        }
      ]
    },
    {
      "cell_type": "markdown",
      "source": [
        "## Pandas\n",
        "\n",
        "Pandas is a popular Python library for data analysis. It provides functions and data structures for working with tabular data, such as CSV and Excel files."
      ],
      "metadata": {
        "id": "PObcjk4mrge-"
      }
    },
    {
      "cell_type": "markdown",
      "source": [
        "The core data structure in Pandas is the `DataFrame`, which is a two-dimensional table with labeled rows and columns. There are also several other data structures available, such as the `Series` (one-dimensional array) and `Panel` (three-dimensional array). "
      ],
      "metadata": {
        "id": "dWfDv4-Tr9zh"
      }
    },
    {
      "cell_type": "code",
      "source": [
        "import pandas as pd\n",
        "\n",
        "my_dataframe = pd.DataFrame({'Name': ['John', 'Paul', 'George', 'Ringo'],\n",
        "                             'Age': [22, 24, 23, 21]\n",
        "                            })\n",
        "print(my_dataframe)\n",
        "\n",
        "# Calculate the mean age using Pandas\n",
        "mean_age = my_dataframe['Age'].mean()\n",
        "\n",
        "print(mean_age) # 22.5"
      ],
      "metadata": {
        "colab": {
          "base_uri": "https://localhost:8080/"
        },
        "id": "AsiIXjoRshMg",
        "outputId": "ba7a25e4-8eb0-4119-c9b1-3a1bb3ff7887"
      },
      "execution_count": 51,
      "outputs": [
        {
          "output_type": "stream",
          "name": "stdout",
          "text": [
            "     Name  Age\n",
            "0    John   22\n",
            "1    Paul   24\n",
            "2  George   23\n",
            "3   Ringo   21\n",
            "22.5\n"
          ]
        }
      ]
    },
    {
      "cell_type": "markdown",
      "source": [
        "We can also use Pandas to read and write data from various file formats, such as CSV, Excel, and JSON. To read data from a file, we use the `pd.read_csv()` or `pd.read_excel()` functions. To write data to a file, we use the `pd.to_csv()` or `pd.to_excel()` functions.\n",
        "\n",
        "Let's start by uploading a CSV file of your choice."
      ],
      "metadata": {
        "id": "DoYgRR8Sso3d"
      }
    },
    {
      "cell_type": "code",
      "source": [
        "from google.colab import files\n",
        " \n",
        " \n",
        "uploaded = files.upload()"
      ],
      "metadata": {
        "colab": {
          "base_uri": "https://localhost:8080/",
          "height": 111
        },
        "id": "DjaMekdoviEb",
        "outputId": "e0db4115-de96-4fd7-a1b5-d373a7997b0a"
      },
      "execution_count": 37,
      "outputs": [
        {
          "output_type": "display_data",
          "data": {
            "text/plain": [
              "<IPython.core.display.HTML object>"
            ],
            "text/html": [
              "\n",
              "     <input type=\"file\" id=\"files-178fc40f-d6b9-4b65-aa30-11c04397c191\" name=\"files[]\" multiple disabled\n",
              "        style=\"border:none\" />\n",
              "     <output id=\"result-178fc40f-d6b9-4b65-aa30-11c04397c191\">\n",
              "      Upload widget is only available when the cell has been executed in the\n",
              "      current browser session. Please rerun this cell to enable.\n",
              "      </output>\n",
              "      <script>// Copyright 2017 Google LLC\n",
              "//\n",
              "// Licensed under the Apache License, Version 2.0 (the \"License\");\n",
              "// you may not use this file except in compliance with the License.\n",
              "// You may obtain a copy of the License at\n",
              "//\n",
              "//      http://www.apache.org/licenses/LICENSE-2.0\n",
              "//\n",
              "// Unless required by applicable law or agreed to in writing, software\n",
              "// distributed under the License is distributed on an \"AS IS\" BASIS,\n",
              "// WITHOUT WARRANTIES OR CONDITIONS OF ANY KIND, either express or implied.\n",
              "// See the License for the specific language governing permissions and\n",
              "// limitations under the License.\n",
              "\n",
              "/**\n",
              " * @fileoverview Helpers for google.colab Python module.\n",
              " */\n",
              "(function(scope) {\n",
              "function span(text, styleAttributes = {}) {\n",
              "  const element = document.createElement('span');\n",
              "  element.textContent = text;\n",
              "  for (const key of Object.keys(styleAttributes)) {\n",
              "    element.style[key] = styleAttributes[key];\n",
              "  }\n",
              "  return element;\n",
              "}\n",
              "\n",
              "// Max number of bytes which will be uploaded at a time.\n",
              "const MAX_PAYLOAD_SIZE = 100 * 1024;\n",
              "\n",
              "function _uploadFiles(inputId, outputId) {\n",
              "  const steps = uploadFilesStep(inputId, outputId);\n",
              "  const outputElement = document.getElementById(outputId);\n",
              "  // Cache steps on the outputElement to make it available for the next call\n",
              "  // to uploadFilesContinue from Python.\n",
              "  outputElement.steps = steps;\n",
              "\n",
              "  return _uploadFilesContinue(outputId);\n",
              "}\n",
              "\n",
              "// This is roughly an async generator (not supported in the browser yet),\n",
              "// where there are multiple asynchronous steps and the Python side is going\n",
              "// to poll for completion of each step.\n",
              "// This uses a Promise to block the python side on completion of each step,\n",
              "// then passes the result of the previous step as the input to the next step.\n",
              "function _uploadFilesContinue(outputId) {\n",
              "  const outputElement = document.getElementById(outputId);\n",
              "  const steps = outputElement.steps;\n",
              "\n",
              "  const next = steps.next(outputElement.lastPromiseValue);\n",
              "  return Promise.resolve(next.value.promise).then((value) => {\n",
              "    // Cache the last promise value to make it available to the next\n",
              "    // step of the generator.\n",
              "    outputElement.lastPromiseValue = value;\n",
              "    return next.value.response;\n",
              "  });\n",
              "}\n",
              "\n",
              "/**\n",
              " * Generator function which is called between each async step of the upload\n",
              " * process.\n",
              " * @param {string} inputId Element ID of the input file picker element.\n",
              " * @param {string} outputId Element ID of the output display.\n",
              " * @return {!Iterable<!Object>} Iterable of next steps.\n",
              " */\n",
              "function* uploadFilesStep(inputId, outputId) {\n",
              "  const inputElement = document.getElementById(inputId);\n",
              "  inputElement.disabled = false;\n",
              "\n",
              "  const outputElement = document.getElementById(outputId);\n",
              "  outputElement.innerHTML = '';\n",
              "\n",
              "  const pickedPromise = new Promise((resolve) => {\n",
              "    inputElement.addEventListener('change', (e) => {\n",
              "      resolve(e.target.files);\n",
              "    });\n",
              "  });\n",
              "\n",
              "  const cancel = document.createElement('button');\n",
              "  inputElement.parentElement.appendChild(cancel);\n",
              "  cancel.textContent = 'Cancel upload';\n",
              "  const cancelPromise = new Promise((resolve) => {\n",
              "    cancel.onclick = () => {\n",
              "      resolve(null);\n",
              "    };\n",
              "  });\n",
              "\n",
              "  // Wait for the user to pick the files.\n",
              "  const files = yield {\n",
              "    promise: Promise.race([pickedPromise, cancelPromise]),\n",
              "    response: {\n",
              "      action: 'starting',\n",
              "    }\n",
              "  };\n",
              "\n",
              "  cancel.remove();\n",
              "\n",
              "  // Disable the input element since further picks are not allowed.\n",
              "  inputElement.disabled = true;\n",
              "\n",
              "  if (!files) {\n",
              "    return {\n",
              "      response: {\n",
              "        action: 'complete',\n",
              "      }\n",
              "    };\n",
              "  }\n",
              "\n",
              "  for (const file of files) {\n",
              "    const li = document.createElement('li');\n",
              "    li.append(span(file.name, {fontWeight: 'bold'}));\n",
              "    li.append(span(\n",
              "        `(${file.type || 'n/a'}) - ${file.size} bytes, ` +\n",
              "        `last modified: ${\n",
              "            file.lastModifiedDate ? file.lastModifiedDate.toLocaleDateString() :\n",
              "                                    'n/a'} - `));\n",
              "    const percent = span('0% done');\n",
              "    li.appendChild(percent);\n",
              "\n",
              "    outputElement.appendChild(li);\n",
              "\n",
              "    const fileDataPromise = new Promise((resolve) => {\n",
              "      const reader = new FileReader();\n",
              "      reader.onload = (e) => {\n",
              "        resolve(e.target.result);\n",
              "      };\n",
              "      reader.readAsArrayBuffer(file);\n",
              "    });\n",
              "    // Wait for the data to be ready.\n",
              "    let fileData = yield {\n",
              "      promise: fileDataPromise,\n",
              "      response: {\n",
              "        action: 'continue',\n",
              "      }\n",
              "    };\n",
              "\n",
              "    // Use a chunked sending to avoid message size limits. See b/62115660.\n",
              "    let position = 0;\n",
              "    do {\n",
              "      const length = Math.min(fileData.byteLength - position, MAX_PAYLOAD_SIZE);\n",
              "      const chunk = new Uint8Array(fileData, position, length);\n",
              "      position += length;\n",
              "\n",
              "      const base64 = btoa(String.fromCharCode.apply(null, chunk));\n",
              "      yield {\n",
              "        response: {\n",
              "          action: 'append',\n",
              "          file: file.name,\n",
              "          data: base64,\n",
              "        },\n",
              "      };\n",
              "\n",
              "      let percentDone = fileData.byteLength === 0 ?\n",
              "          100 :\n",
              "          Math.round((position / fileData.byteLength) * 100);\n",
              "      percent.textContent = `${percentDone}% done`;\n",
              "\n",
              "    } while (position < fileData.byteLength);\n",
              "  }\n",
              "\n",
              "  // All done.\n",
              "  yield {\n",
              "    response: {\n",
              "      action: 'complete',\n",
              "    }\n",
              "  };\n",
              "}\n",
              "\n",
              "scope.google = scope.google || {};\n",
              "scope.google.colab = scope.google.colab || {};\n",
              "scope.google.colab._files = {\n",
              "  _uploadFiles,\n",
              "  _uploadFilesContinue,\n",
              "};\n",
              "})(self);\n",
              "</script> "
            ]
          },
          "metadata": {}
        },
        {
          "output_type": "stream",
          "name": "stdout",
          "text": [
            "Saving results_Fri Dec 02 2022 14_21_55 GMT+0000 (Greenwich Mean Time).csv to results_Fri Dec 02 2022 14_21_55 GMT+0000 (Greenwich Mean Time).csv\n"
          ]
        }
      ]
    },
    {
      "cell_type": "code",
      "source": [
        "# Read the CSV file into a DataFrame\n",
        "my_dataframe = pd.read_csv('results_Fri Dec 02 2022 14_21_55 GMT+0000 (Greenwich Mean Time).csv')\n",
        "\n",
        "# Print the DataFrame\n",
        "print(my_dataframe)"
      ],
      "metadata": {
        "colab": {
          "base_uri": "https://localhost:8080/"
        },
        "id": "pvaWIuJUvSEi",
        "outputId": "ae9ee3e5-5324-4173-fe2f-e893a15b69b9"
      },
      "execution_count": 38,
      "outputs": [
        {
          "output_type": "stream",
          "name": "stdout",
          "text": [
            "   applyClicks                                   day\n",
            "0           87  {\"value\":\"2022-11-23T00:00:00.000Z\"}\n",
            "1           56  {\"value\":\"2022-11-24T00:00:00.000Z\"}\n",
            "2           33  {\"value\":\"2022-11-25T00:00:00.000Z\"}\n",
            "3           42  {\"value\":\"2022-11-26T00:00:00.000Z\"}\n",
            "4           76  {\"value\":\"2022-11-27T00:00:00.000Z\"}\n",
            "5           63  {\"value\":\"2022-11-28T00:00:00.000Z\"}\n",
            "6           24  {\"value\":\"2022-11-29T00:00:00.000Z\"}\n",
            "7           30  {\"value\":\"2022-11-30T00:00:00.000Z\"}\n"
          ]
        }
      ]
    },
    {
      "cell_type": "markdown",
      "source": [
        "We can also use Pandas to perform data wrangling and manipulation tasks on a DataFrame. To filter the data in a DataFrame, we use the `df.loc[]` or `df.iloc[]` functions. To sort the data in a DataFrame, we use the `df.sort_values()` function. To aggregate the data in a DataFrame, we use the `df.groupby()` function.\n",
        "\n",
        "Try it yourself:\n",
        "\n",
        "1. Filter the DataFrame to only include records with an age of 21 or older. \n",
        "2. Sort the DataFrame by age in descending order. \n"
      ],
      "metadata": {
        "id": "6SZz6RL7xNvG"
      }
    },
    {
      "cell_type": "code",
      "source": [
        "# Filter the DataFrame\n",
        "filtered_dataframe = my_dataframe.loc[my_dataframe['applyClicks'] >= 60]\n",
        "\n",
        "# Sort the DataFrame\n",
        "sorted_dataframe = filtered_dataframe.sort_values(by='applyClicks', ascending=True)\n",
        "\n",
        "print(filtered_dataframe)\n",
        "print(sorted_dataframe)\n",
        "\n",
        "# now with lambda function\n",
        "# Filter the DataFrame using a lambda function\n",
        "filtered_dataframe_refactored = my_dataframe.loc[lambda df: df['applyClicks'] >= 60]\n",
        "\n",
        "print(filtered_dataframe_refactored)"
      ],
      "metadata": {
        "colab": {
          "base_uri": "https://localhost:8080/"
        },
        "id": "hp8xf11RxZKn",
        "outputId": "26aff24b-088d-4c31-f0ac-10d92de6faf9"
      },
      "execution_count": 50,
      "outputs": [
        {
          "output_type": "stream",
          "name": "stdout",
          "text": [
            "   applyClicks                                   day\n",
            "0           87  {\"value\":\"2022-11-23T00:00:00.000Z\"}\n",
            "4           76  {\"value\":\"2022-11-27T00:00:00.000Z\"}\n",
            "5           63  {\"value\":\"2022-11-28T00:00:00.000Z\"}\n",
            "   applyClicks                                   day\n",
            "5           63  {\"value\":\"2022-11-28T00:00:00.000Z\"}\n",
            "4           76  {\"value\":\"2022-11-27T00:00:00.000Z\"}\n",
            "0           87  {\"value\":\"2022-11-23T00:00:00.000Z\"}\n",
            "   applyClicks                                   day\n",
            "0           87  {\"value\":\"2022-11-23T00:00:00.000Z\"}\n",
            "4           76  {\"value\":\"2022-11-27T00:00:00.000Z\"}\n",
            "5           63  {\"value\":\"2022-11-28T00:00:00.000Z\"}\n"
          ]
        }
      ]
    },
    {
      "cell_type": "markdown",
      "source": [
        "## Matplotlib\n",
        "\n",
        "Matplotlib is a popular Python library for data visualization. It provides functions for creating plots and charts from data."
      ],
      "metadata": {
        "id": "HupeaxtzDZed"
      }
    },
    {
      "cell_type": "markdown",
      "source": [
        "### Basic Plotting Functions in Matplotlib\n",
        "\n",
        "Matplotlib provides several basic plotting functions, such as `plot()`, `bar()`, and `scatter()`. These functions can be used to create basic line, bar, and scatter plots from data. \n",
        "\n",
        "To create a simple line plot, we can use the `plot()` function. This takes two arguments - an array of x-values and an array of y-values - and returns a line plot. \n"
      ],
      "metadata": {
        "id": "gVg8dLZsDo-q"
      }
    },
    {
      "cell_type": "code",
      "source": [
        "import matplotlib.pyplot as plt\n",
        "import numpy as np\n",
        "\n",
        "# Create an array of x-values\n",
        "x_vals = np.linspace(0, 10, num=100)\n",
        "\n",
        "# Create an array of y-values\n",
        "y_vals = x_vals ** 2\n",
        "\n",
        "# Create a line plot\n",
        "plt.plot(x_vals, y_vals)\n",
        "plt.show()"
      ],
      "metadata": {
        "colab": {
          "base_uri": "https://localhost:8080/",
          "height": 265
        },
        "id": "X6Z1MO6sEjcY",
        "outputId": "5f52c36a-3092-4aee-810f-b8669ba53942"
      },
      "execution_count": 52,
      "outputs": [
        {
          "output_type": "display_data",
          "data": {
            "text/plain": [
              "<Figure size 432x288 with 1 Axes>"
            ],
            "image/png": "[encoded data removed]"
          },
          "metadata": {
            "needs_background": "light"
          }
        }
      ]
    },
    {
      "cell_type": "markdown",
      "source": [
        "In this simplified machine learning problem, we have a dataset consisting of 100 observations. Each observation has one feature (x) and one target (y). We can use Matplotlib to visualize the dataset by plotting the x-values against the y-values in a line plot. This will help us identify any potential patterns or trends in the data, which can inform our choice for an appropriate machine learning model. \n",
        "\n",
        "We can also use Matplotlib to evaluate our model's performance. After training the model, we can plot the predicted values against the actual values and create a line plot. This will allow us to visually compare the model's predictions with the true values, which can help us assess the performance of the model."
      ],
      "metadata": {
        "id": "43EZlBu6E8qp"
      }
    },
    {
      "cell_type": "markdown",
      "source": [
        "## Tensorflow\n",
        "\n",
        "TensorFlow is a popular open-source machine learning library for Python. It provides functions for building and training neural networks.\n",
        "\n",
        "### TensorFlow basics\n",
        "\n",
        "#### Defining a neural network\n",
        "\n",
        "A neural network is a computational model that is inspired by the structure and function of the brain. It consists of a collection of interconnected nodes, or neurons, which are organized into layers. Each neuron receives input from other neurons in the previous layer, and sends output to neurons in the next layer.\n",
        "\n",
        "The inputs and outputs of the neurons are numerical values, called activations, which are computed based on the weighted sum of the inputs, the bias of the neuron, and the activation function of the neuron. The weights and biases of the neurons are adjustable parameters, called trainable parameters, which are updated during the training process in a way that minimizes the loss function of the model.\n",
        "\n",
        "A neural network can be represented as a directed acyclic graph, where the nodes represent the neurons and the edges represent the connections between the neurons. Each layer of the network corresponds to a set of nodes in the graph, and each connection between the neurons corresponds to an edge in the graph.\n",
        "\n",
        "\n",
        "```\n",
        "# input layer\n",
        "x1 ---o---o---o---\n",
        "       |   |   |\n",
        "       o   o   o\n",
        "       |   |   |\n",
        "       o   o   o\n",
        "       |   |   |\n",
        "xn ---o---o---o---\n",
        "\n",
        "# hidden layer\n",
        "h1 ----o----o----\n",
        "        |    |\n",
        "        o    o\n",
        "        |    |\n",
        "        o    o\n",
        "        |    |\n",
        "hm ----o----o----\n",
        "\n",
        "# output layer\n",
        "y1 -----o-------\n",
        "         |\n",
        "         o\n",
        "         |\n",
        "         o\n",
        "         |\n",
        "         o\n",
        "         |\n",
        "         o\n",
        "         |\n",
        "yn -----o-------\n",
        "\n",
        "```\n",
        "\n",
        "#### Creating constant tensors\n",
        "\n",
        "A tensor is a multidimensional array of numerical values. In TensorFlow, we can create a constant tensor using the tf.constant() function, which takes a value and a shape as arguments. For example:"
      ],
      "metadata": {
        "id": "REDC-xJyFmge"
      }
    },
    {
      "cell_type": "code",
      "source": [
        "import tensorflow as tf\n",
        "\n",
        "# create a 2x3 constant tensor with all ones\n",
        "ones = tf.constant(1, shape=[2, 3])\n",
        "\n",
        "# create a 2x3 constant tensor with all zeros\n",
        "zeros = tf.constant(0, shape=[2, 3])\n",
        "\n",
        "# create a 2x3 constant tensor with all random values between 0 and 1\n",
        "random = tf.constant(tf.random.uniform([2, 3]))\n",
        "\n",
        "print(random)"
      ],
      "metadata": {
        "colab": {
          "base_uri": "https://localhost:8080/"
        },
        "id": "LaGGepUhF1a6",
        "outputId": "21eed684-c5d2-4d30-9a31-fdf622eb4dae"
      },
      "execution_count": 139,
      "outputs": [
        {
          "output_type": "stream",
          "name": "stdout",
          "text": [
            "tf.Tensor(\n",
            "[[0.6455014  0.71944547 0.13551664]\n",
            " [0.14478695 0.06542945 0.34400237]], shape=(2, 3), dtype=float32)\n"
          ]
        }
      ]
    },
    {
      "cell_type": "markdown",
      "source": [
        "#### Performing element-wise operations\n",
        "In TensorFlow, we can perform element-wise operations on tensors using the corresponding arithmetic operators (+, -, *, /, etc.). For example:"
      ],
      "metadata": {
        "id": "PV39N7HnHnGL"
      }
    },
    {
      "cell_type": "code",
      "source": [
        "import tensorflow as tf\n",
        "\n",
        "# create a 2x3 constant tensor with all ones\n",
        "ones = tf.constant(1, shape=[2, 3])\n",
        "\n",
        "# create a 2x3 constant tensor with all zeros\n",
        "zeros = tf.constant(0, shape=[2, 3])\n",
        "\n",
        "# add the ones and zeros tensors element-wise\n",
        "ones_plus_zeros = ones + zeros\n",
        "\n",
        "# subtract the zeros tensor from the ones tensor element-wise\n",
        "ones_minus_zeros = ones - zeros\n",
        "\n",
        "# multiply the ones tensor by the zeros tensor element-wise\n",
        "ones_times_zeros = ones * zeros\n",
        "\n",
        "# divide the ones tensor by the zeros tensor element-wise\n",
        "ones_divided_by_zeros = ones / zeros\n",
        "\n",
        "print(ones)\n",
        "print(zeros)\n",
        "print(ones_plus_zeros)"
      ],
      "metadata": {
        "colab": {
          "base_uri": "https://localhost:8080/"
        },
        "id": "gG1A8CyPHpjs",
        "outputId": "18118166-5f96-449e-8961-3d1289ed1f7e"
      },
      "execution_count": 140,
      "outputs": [
        {
          "output_type": "stream",
          "name": "stdout",
          "text": [
            "tf.Tensor(\n",
            "[[1 1 1]\n",
            " [1 1 1]], shape=(2, 3), dtype=int32)\n",
            "tf.Tensor(\n",
            "[[0 0 0]\n",
            " [0 0 0]], shape=(2, 3), dtype=int32)\n",
            "tf.Tensor(\n",
            "[[1 1 1]\n",
            " [1 1 1]], shape=(2, 3), dtype=int32)\n"
          ]
        }
      ]
    },
    {
      "cell_type": "markdown",
      "source": [
        "#### Exercises\n",
        "Try the following exercises to practice working with tensors in TensorFlow:\n",
        "\n",
        "1. Create a 2x2 constant tensor with all ones, and a 2x2 constant tensor with all random values between 0 and 1.\n",
        "\n",
        "2. Add the two tensors element-wise and print the result.\n",
        "Create a 2x2 constant tensor with all ones, and a 2x2 constant tensor with all random values between 0 and 1. Subtract the random tensor from the ones tensor element-wise and print the result.\n",
        "\n",
        "3. Create a 2x2 constant tensor with all ones, and a 2x2 constant tensor with all random values between 0 and 1. Multiply the ones tensor by the random tensor element-wise and print the result.\n",
        "\n",
        "4. Create a 2x2 constant tensor with all ones, and a 2x2 constant tensor"
      ],
      "metadata": {
        "id": "Wd3gGMyyH-wL"
      }
    },
    {
      "cell_type": "code",
      "source": [
        "#Solutions\n",
        "\n",
        "sol_1 = tf.constant(1, shape=[2, 2])\n",
        "sol_1b = tf.constant(tf.random.uniform([2, 2]))\n",
        "\n",
        "print(sol_1)\n",
        "print(sol_1b)"
      ],
      "metadata": {
        "colab": {
          "base_uri": "https://localhost:8080/"
        },
        "id": "nvZAy5qDIOQp",
        "outputId": "5b2d0cc5-ae2a-40b4-cf5b-0e4cff161680"
      },
      "execution_count": 141,
      "outputs": [
        {
          "output_type": "stream",
          "name": "stdout",
          "text": [
            "tf.Tensor(\n",
            "[[1 1]\n",
            " [1 1]], shape=(2, 2), dtype=int32)\n",
            "tf.Tensor(\n",
            "[[0.40546942 0.98820114]\n",
            " [0.22890055 0.39862   ]], shape=(2, 2), dtype=float32)\n"
          ]
        }
      ]
    },
    {
      "cell_type": "markdown",
      "source": [
        "### Building a neural network with TensorFlow\n",
        "\n",
        "The first step in building a neural network with TensorFlow is to define its architecture, including the number and size of the layers, as well as the type of activation function to use for each layer. This can be done using the tf.keras.Sequential() and tf.keras.layers classes. For example:"
      ],
      "metadata": {
        "id": "u26P_GauK70b"
      }
    },
    {
      "cell_type": "code",
      "source": [
        "import tensorflow as tf\n",
        "\n",
        "# define a simple neural network with one input layer, one hidden layer, and one output layer\n",
        "model = tf.keras.Sequential()\n",
        "model.add(tf.keras.layers.Dense(units=64, activation='relu', input_shape=(32,)))\n",
        "model.add(tf.keras.layers.Dense(units=10, activation='softmax'))\n"
      ],
      "metadata": {
        "id": "r6vTeHyPLRdE"
      },
      "execution_count": 142,
      "outputs": []
    },
    {
      "cell_type": "markdown",
      "source": [
        "In the above example, we define a simple neural network with one input layer of size 32, one hidden layer of size 64, and one output layer of size 10. We use the ReLU activation function for the hidden layer, and the softmax activation function for the output layer.\n",
        "\n",
        "An **activation function** is a mathematical function that is applied to the output of each neuron in a neural network. Its purpose is to introduce non-linearity into the output, allowing the model to learn and represent more complex patterns in the data.\n",
        "\n",
        "Activation functions can take various forms, but common choices include the sigmoid function, the hyperbolic tangent function, and the rectified linear unit (ReLU) function. The specific activation function used in a neural network can affect its performance and convergence properties, so it is an important hyperparameter to tune.\n",
        "\n"
      ],
      "metadata": {
        "id": "GRfY7rUvLwjJ"
      }
    },
    {
      "cell_type": "code",
      "source": [
        "import matplotlib.pyplot as plt\n",
        "import numpy as np\n",
        "\n",
        "# define the activation function (sigmoid)\n",
        "def activation(x):\n",
        "  return 1 / (1 + np.exp(-x))\n",
        "\n",
        "# generate a range of input values\n",
        "x = np.linspace(-10, 10, 100)\n",
        "\n",
        "# compute the output of the neuron for each input\n",
        "y = activation(x)\n",
        "\n",
        "# plot the input-output curve\n",
        "plt.plot(x, y)\n",
        "plt.xlabel('Input')\n",
        "plt.ylabel('Output')\n",
        "plt.show()\n"
      ],
      "metadata": {
        "colab": {
          "base_uri": "https://localhost:8080/",
          "height": 279
        },
        "id": "u2nKCrcOQL6B",
        "outputId": "5d2f31ac-7a69-4797-df86-27f932da82bd"
      },
      "execution_count": 143,
      "outputs": [
        {
          "output_type": "display_data",
          "data": {
            "text/plain": [
              "<Figure size 432x288 with 1 Axes>"
            ],
            "image/png": "[encoded data removed]"
          },
          "metadata": {
            "needs_background": "light"
          }
        }
      ]
    },
    {
      "cell_type": "markdown",
      "source": [
        "* **Sigmoid**: This is a smooth and continuous function that maps any real-valued number to a value between 0 and 1. It is often used in the output layer of a binary classification model. However, it has several drawbacks, such as the output saturating at high and low values, and the gradients becoming very small in those regions, which can slow down training.\n",
        "\n",
        "* **Hyperbolic tangent (tanh)**: This is similar to the sigmoid function, but maps the real numbers to the range (-1, 1) instead of (0, 1). It has the same drawbacks as the sigmoid function, but is often used in the hidden layers of a neural network.\n",
        "\n",
        "* **Rectified linear unit (ReLU)**: This is a simple and efficient function that maps any negative value to 0, and any positive value to itself. It has become very popular in recent years due to its simplicity and good performance in many tasks. However, it can suffer from the \"dying ReLU\" problem, where some neurons never activate and become \"dead\", which can slow down training.\n",
        "\n",
        "* **Leaky ReLU:** This is a variant"
      ],
      "metadata": {
        "id": "kW7xieUQQi7t"
      }
    },
    {
      "cell_type": "markdown",
      "source": [
        "#### Forward pass\n",
        "\n",
        "Once the model architecture is defined, we need to define the forward pass, which specifies how the input data is transformed by the model to produce the output predictions. In TensorFlow, this is done using the model.call() method, which takes the input data as an argument and returns the output predictions. For example:"
      ],
      "metadata": {
        "id": "5JQT3AuKL6yo"
      }
    },
    {
      "cell_type": "code",
      "source": [
        "# define the forward pass\n",
        "def forward_pass(x):\n",
        "  return model(x)\n"
      ],
      "metadata": {
        "id": "GWTUQPr6L-Gm"
      },
      "execution_count": 144,
      "outputs": []
    },
    {
      "cell_type": "markdown",
      "source": [
        "In the above example, we define the forward pass of the neural network by calling the `model()` function on the input data `x`. This returns the output predictions of the model for the given input.\n",
        "\n",
        "During a forward pass in a neural network, the input data is processed through each layer of the network in turn, from the input layer to the output layer. At a low level, this involves several steps, which can be illustrated using a simple example with a neural network with one hidden layer and one output layer.\n",
        "\n",
        "First, the input data is multiplied by the weights of the first layer (i.e., the weights between the input and the hidden layer), and then an activation function is applied element-wise to the result. This produces the activations of the hidden layer, which are the inputs to the second layer.\n",
        "\n",
        "Then, the activations of the hidden layer are multiplied by the weights of the second layer (i.e., the weights between the hidden and the output layer), and an activation function is applied element-wise to the result. This produces the activations of the output layer, which are the final predictions of the model for the given input.\n",
        "\n",
        "For example, if the input data is a 2x3 matrix, the weights of the first layer are a 3x4 matrix, and the weights of the second layer are a 4x2 matrix, the forward pass would look like this:"
      ],
      "metadata": {
        "id": "vSXBidCFMJkH"
      }
    },
    {
      "cell_type": "code",
      "source": [
        "import numpy as np\n",
        "\n",
        "# input data\n",
        "x = [[1, 2, 3],\n",
        "     [4, 5, 6]]\n",
        "\n",
        "# weights of the first layer\n",
        "w1 = [[1, 2, 3, 4],\n",
        "      [5, 6, 7, 8],\n",
        "      [9, 10, 11, 12]]\n",
        "\n",
        "# weights of the second layer\n",
        "w2 = [[1, 2],\n",
        "      [3, 4],\n",
        "      [5, 6],\n",
        "      [7, 8]]\n",
        "\n",
        "# compute the activations of the hidden layer\n",
        "h = activation(np.dot(x, w1))\n",
        "\n",
        "# compute the activations of the output layer\n",
        "y = activation(np.dot(h, w2))\n",
        "\n",
        "print(h)\n",
        "print(y)\n"
      ],
      "metadata": {
        "colab": {
          "base_uri": "https://localhost:8080/"
        },
        "id": "yi194Z0wXzix",
        "outputId": "25e6b84f-3115-49f8-9777-9d7f60d03c26"
      },
      "execution_count": 145,
      "outputs": [
        {
          "output_type": "stream",
          "name": "stdout",
          "text": [
            "[[1. 1. 1. 1.]\n",
            " [1. 1. 1. 1.]]\n",
            "[[0.99999989 1.        ]\n",
            " [0.99999989 1.        ]]\n"
          ]
        }
      ]
    },
    {
      "cell_type": "markdown",
      "source": [
        "In the above example, we use the `np.dot()` function to compute the matrix multiplication between the input and the weights, and then apply the activation function element-wise to the result. This produces the activations of the hidden and output layers, which are the final predictions of the model for the given input.\n",
        "\n",
        "This way, we can compute the forward pass of a neural network using the matrix multiplication operations provided by NumPy, instead of using the native list multiplication in Python. This is more efficient and allows us to use more complex architectures and larger datasets."
      ],
      "metadata": {
        "id": "sglZqf5mYa23"
      }
    },
    {
      "cell_type": "markdown",
      "source": [
        "#### Loss function\n",
        "\n",
        "After defining the forward pass, we need to define a loss function that measures the difference between the predicted output and the true output. This is used to evaluate the performance of the model and guide the training process. In TensorFlow, we can use the `tf.keras.losses` module to define a loss function. For example:"
      ],
      "metadata": {
        "id": "sKKSko78MO2_"
      }
    },
    {
      "cell_type": "code",
      "source": [
        "# define the loss function\n",
        "loss_fn = tf.keras.losses.SparseCategoricalCrossentropy()\n"
      ],
      "metadata": {
        "id": "eZGBwkBsMTEA"
      },
      "execution_count": 146,
      "outputs": []
    },
    {
      "cell_type": "markdown",
      "source": [
        "In the above example, we define the loss function of the neural network using the `tf.keras.losses.SparseCategoricalCrossentropy()` function, which is appropriate for classification tasks with integer-valued labels. This loss function takes the predicted output and the true output as arguments, and returns the scalar loss value.\n",
        "\n",
        "Some common loss functions include:\n",
        "\n",
        "* **Mean squared error (MSE):** This is a popular loss function for regression tasks, where the goal is to predict continuous values. It computes the average squared difference between the predicted and true outputs, which penalizes large errors more than small ones. However, it can be sensitive to outliers and can produce very small gradients for well-behaved predictions.\n",
        "\n",
        "* **Mean absolute error (MAE):** This is similar to MSE, but computes the average absolute difference between the predicted and true outputs. It is less sensitive to outliers than MSE, but can still produce small gradients for well-behaved predictions.\n",
        "\n",
        "* **Categorical cross-entropy:** This is a popular loss function for classification tasks with mutually exclusive classes, where the goal is to predict a class label. It computes the cross-entropy between the predicted and true probability distributions over the classes, which penalizes large errors more than small ones. However, it can be sensitive to imbalanced classes and can produce very small gradients for well-behaved predictions.\n",
        "\n",
        "* **Sparse categorical cross-entropy:** This is similar to categorical cross-entropy, but is used for classification tasks with integer-valued class labels instead of one-hot encoded labels. It is less sensitive to imbalanced classes than categorical cross-entropy, but can still produce small gradients for well-behaved predictions."
      ],
      "metadata": {
        "id": "KKX3KuI6Mh-r"
      }
    },
    {
      "cell_type": "markdown",
      "source": [
        "#### Defining the optimizer\n",
        "\n",
        "After defining the loss function, we need to define an optimizer that will be used to update the model parameters based on the loss value. In TensorFlow, we can use the `tf.keras.optimizers` module to define an optimizer. For example:"
      ],
      "metadata": {
        "id": "fGUl-M6UNKrs"
      }
    },
    {
      "cell_type": "code",
      "source": [
        "# define the optimizer\n",
        "optimizer = tf.keras.optimizers.Adam()\n"
      ],
      "metadata": {
        "id": "tP1JsLPXNPuC"
      },
      "execution_count": 147,
      "outputs": []
    },
    {
      "cell_type": "markdown",
      "source": [
        "In the above example, we define the optimizer of the neural network using the `tf.keras.optimizers.Adam()` function, which is a popular variant of **stochastic gradient descent**. This optimizer takes the learning rate and other hyperparameters as arguments, and is used to update the model parameters during training.\n",
        "\n",
        "The optimizer is responsible for updating the model parameters based on the loss value. At a low level, this involves several steps, which can be illustrated using a simple example with a neural network with one hidden layer and one output layer.\n",
        "\n",
        "First, the input data and the true output are fed into the model, and a forward pass is performed to compute the predicted output and the loss value. Then, the gradients of the loss with respect to the model parameters are computed using the backpropagation algorithm.\n",
        "\n",
        "Next, the optimizer uses the computed gradients to update the model parameters in a way that reduces the loss value. This is done by applying an update rule to the model parameters, which typically involves moving them in the opposite direction of the gradients, with a step size determined by the learning rate.\n",
        "\n",
        "For example, if the model parameters are represented as a dictionary, the update step would look like this (pseudo code):\n",
        "\n",
        "```\n",
        "# compute the gradients of the loss with respect to the model parameters\n",
        "gradients = compute_gradients(model, x, y_true)\n",
        "\n",
        "# update the model parameters\n",
        "for param, gradient in gradients.items():\n",
        "  model[param] -= learning_rate * gradient\n",
        "```"
      ],
      "metadata": {
        "id": "XG3yML4ENUmh"
      }
    },
    {
      "cell_type": "markdown",
      "source": [
        "Different optimizers can be used, depending on the task and the characteristics of the data. Some common optimizers include:\n",
        "\n",
        "* **Stochastic gradient descent (SGD):** This is a simple and widely used optimizer that updates the model parameters based on the gradient of the loss with respect to each parameter. It has a single hyperparameter, the learning rate, which determines the step size of the update. However, it can be sensitive to the learning rate and can converge to suboptimal solutions in non-convex problems.\n",
        "\n",
        "* **Momentum:** This is an extension of SGD that incorporates the exponentially weighted moving average of the gradients to improve the convergence rate. It has two hyperparameters, the learning rate and the momentum, which control the step size and the amount of history to consider, respectively. It can converge faster and avoid local minima better than SGD, but can still be sensitive to the learning rate and the momentum.\n",
        "\n",
        "* **Nesterov accelerated gradient (NAG):** This is another extension of SGD that incorporates the exponentially weighted moving average of the gradients to improve the convergence rate. It has the same hyperparameters as momentum, but uses a different update rule that takes into account the future gradients when computing the current update.\n",
        "\n",
        "* **Adagrad:** This is an optimizer that adapts the learning rate of each parameter based on the historical gradient of the parameter. It has a single hyperparameter, the initial learning rate, which determines the starting step size of the update. It can converge faster and avoid local minima better than SGD, but can have diminishing learning rates and can converge to suboptimal solutions in non-convex problems.\n",
        "\n",
        "* **Adadelta:** This is an extension of Adagrad that uses the exponentially weighted moving average of the squared gradients to improve the convergence rate. It does not have any hyperparameters, as the learning rate is automatically adjusted based on the historical gradient of the parameters. It can converge faster and avoid local minima better than Adagrad, but can have oscillations and can converge to suboptimal solutions in non-convex problems.\n",
        "\n",
        "* **Adam:** This is an optimizer that combines the ideas of momentum and Adagrad to adapt the learning rate of each parameter based on the historical gradient and the historical squared gradient of the parameter. It has two hyperparameters, the learning rate and the decay rate, which determine the starting step size and the amount of history to consider, respectively. It can converge faster and avoid local minima better than SGD, but can have high variance and can converge to suboptimal solutions in non-convex problems.\n",
        "\n",
        "Each optimizer has its own strengths and weaknesses, depending on the task and the data. It is important to choose the appropriate optimizer for a given task, as it can affect the convergence and performance of the model.\n",
        "\n",
        "\n",
        "\n",
        "\n"
      ],
      "metadata": {
        "id": "HhMKniLMatT7"
      }
    },
    {
      "cell_type": "markdown",
      "source": [
        "### Training and testing\n",
        "\n",
        "The general process of training a neural network typically involves the following steps:\n",
        "\n",
        "1. Prepare the dataset: This involves loading the data from a file or a database, preprocessing it to remove missing or noisy values, and splitting it into training, validation, and test sets.\n",
        "\n",
        "2. Define the model: This involves designing the architecture of the neural network, including the number and type of layers, the activation functions, and the initial values of the parameters.\n",
        "\n",
        "3. Compile the model: This involves selecting the optimizer and the loss function that will be used during training, and setting the hyperparameters (e.g., the learning rate, the decay rate, the momentum, etc.) of the optimizer.\n",
        "\n",
        "4. Train the model: This involves feeding the training data into the model, and using the optimizer to update the parameters of the model in a way that reduces the loss value on the training data. This is typically done in epochs, where an epoch is a complete pass through the training data.\n",
        "\n",
        "5. Evaluate the model: This involves computing the performance metrics of the model on the validation and test sets, such as the accuracy, the precision, the recall, the F1 score, etc. This helps to assess the generalization ability of the model"
      ],
      "metadata": {
        "id": "AdLjpL6-j9Lo"
      }
    },
    {
      "cell_type": "markdown",
      "source": [
        "To create a simple dataset with random values using numpy, we can use the `numpy.random.rand` function to generate arrays of random numbers with a given shape. For example, we can create a matrix of size `(100, 10)` with random values between 0 and 1 by using the following code.\n",
        "\n",
        "We can also use this function to generate the labels for our data by generating a vector of size (100, 1) with random values between 0 and 1, and then using a threshold value (e.g., 0.5) to convert these values into binary labels (0 or 1)."
      ],
      "metadata": {
        "id": "0sSvYR6xkLuG"
      }
    },
    {
      "cell_type": "code",
      "source": [
        "import numpy as np\n",
        "\n",
        "# Generate vector of size (100 by 10) w/ random values between 0 and 1\n",
        "X = np.random.rand(100, 10)\n",
        "\n",
        "# Generate vector of size (100 by 1) random values between 0 and 1\n",
        "y = np.random.rand(100, 1)\n",
        "\n",
        "# Convert values above 0.5 to 1, and values below 0.5 to 0\n",
        "y = (y > 0.5).astype(int)\n",
        "\n",
        "\n",
        "print(X.ndim) # get dimensions\n",
        "print(y.ndim)"
      ],
      "metadata": {
        "colab": {
          "base_uri": "https://localhost:8080/"
        },
        "id": "r59_cy4wkPTw",
        "outputId": "fa2337ff-ed33-483f-ddf1-b409f43f7db5"
      },
      "execution_count": 148,
      "outputs": [
        {
          "output_type": "stream",
          "name": "stdout",
          "text": [
            "2\n",
            "2\n"
          ]
        }
      ]
    },
    {
      "cell_type": "markdown",
      "source": [
        "\n",
        "\n",
        "Once we have the inputs and labels for our dataset, we can split them into training, validation, and test sets using the `train_test_split` function from the `sklearn.model_selection` module. This function allows us to specify the proportion of the data that should be allocated to each set, as well as whether or not to shuffle the data before splitting it. For example, to split the data into training and test sets with 80% of the data in the training set and 20% in the test set, we can use the following code:"
      ],
      "metadata": {
        "id": "zvdqkT6nkbBB"
      }
    },
    {
      "cell_type": "markdown",
      "source": [
        "After defining the model architecture, we can compile the model by selecting the optimizer and the loss function that will be used during training, and setting the hyperparameters of the optimizer."
      ],
      "metadata": {
        "id": "eAs8dny_k0i4"
      }
    },
    {
      "cell_type": "code",
      "source": [
        "from sklearn.model_selection import train_test_split\n",
        "\n",
        "# Split the data into training and test sets, with 80% in the training set and 20% in the test set\n",
        "X_train, X_test, y_train, y_test = train_test_split(X, y, test_size=0.2, shuffle=True)"
      ],
      "metadata": {
        "id": "EOK193B4k1RM"
      },
      "execution_count": 149,
      "outputs": []
    },
    {
      "cell_type": "markdown",
      "source": [
        "We can then further split the training set into a training and validation set using the same function. For example, to split the training set into training and validation sets with 80% in the training set and 20% in the validation set, we can use the following code:"
      ],
      "metadata": {
        "id": "eHFZA5E9k6Ip"
      }
    },
    {
      "cell_type": "code",
      "source": [
        "# Split the training set into training and validation sets, with 80% in the training set and 20% in the validation set\n",
        "X_train, X_val, y_train, y_val = train_test_split(X_train, y_train, test_size=0.2, shuffle=True)"
      ],
      "metadata": {
        "id": "GfcVPeRklOXi"
      },
      "execution_count": 150,
      "outputs": []
    },
    {
      "cell_type": "markdown",
      "source": [
        "we can then define the model by designing its architecture and initializing its parameters. In TensorFlow, we can define a model using the `Sequential` class from the `keras.models` module. This class allows us to `add` layers to the model by calling the add method and passing the desired layer type as an argument. For example, to create a simple model with an input layer, a hidden layer with 10 units and the ReLU activation function, and an output layer with 1 unit and the sigmoid activation function, we can use the following code:"
      ],
      "metadata": {
        "id": "DCq9hoChA4RT"
      }
    },
    {
      "cell_type": "code",
      "source": [
        "from tensorflow.keras.models import Sequential\n",
        "from tensorflow.keras.layers import Dense\n",
        "\n",
        "# Define the model\n",
        "model = Sequential()\n",
        "\n",
        "# Add an input layer\n",
        "model.add(Dense(10, input_dim=10, activation='relu'))\n",
        "\n",
        "# Add a hidden layer with 10 units and the ReLU activation function\n",
        "model.add(Dense(10, activation='relu'))\n",
        "\n",
        "# Add an output layer with 1 unit and the sigmoid activation function\n",
        "model.add(Dense(1, activation='sigmoid'))"
      ],
      "metadata": {
        "id": "PWCLWYuKBvzg"
      },
      "execution_count": 151,
      "outputs": []
    },
    {
      "cell_type": "markdown",
      "source": [
        "The input layer has an `input_dim` parameter that specifies the size of the input data, and the hidden and output layers use the Dense class from the keras.layers module to define the number of units and the activation function for each layer."
      ],
      "metadata": {
        "id": "bDdRVbweC4_G"
      }
    },
    {
      "cell_type": "markdown",
      "source": [
        "After defining the architecture of the model, we can compile it by selecting the optimizer and the loss function that will be used during training. In TensorFlow, we can compile a model using the `compile` method of the `Sequential` class, and passing the desired optimizer, loss function, and any other metrics we want to track as arguments. For example, to compile the model we defined above using the Adam optimizer and the binary cross-entropy loss function, we can use the following code:"
      ],
      "metadata": {
        "id": "6WeoCbWwC-Gb"
      }
    },
    {
      "cell_type": "code",
      "source": [
        "from tensorflow.keras.optimizers import Adam\n",
        "\n",
        "# Compile the model\n",
        "model.compile(optimizer=Adam(), loss='binary_crossentropy', metrics=['accuracy'])"
      ],
      "metadata": {
        "id": "cKMRBSoiDL3q"
      },
      "execution_count": 152,
      "outputs": []
    },
    {
      "cell_type": "markdown",
      "source": [
        "Once the model is compiled, we can then train it by calling the `fit` method of the `Sequential` class and passing the training data, the number of epochs, and any other hyperparameters we want to specify as arguments. For example, to train the model for 10 epochs with a batch size of 32 and a learning rate of 0.01, we can use the following code:"
      ],
      "metadata": {
        "id": "zLTrxPpwDPOb"
      }
    },
    {
      "cell_type": "code",
      "source": [
        "# Train the model\n",
        "history = model.fit(X_train, y_train, epochs=100, batch_size=10, validation_data=(X_val, y_val), verbose=2)\n"
      ],
      "metadata": {
        "colab": {
          "base_uri": "https://localhost:8080/"
        },
        "id": "75qxcVcDDP7z",
        "outputId": "74017efb-6ba1-4e99-c76b-b832c115f024"
      },
      "execution_count": 153,
      "outputs": [
        {
          "output_type": "stream",
          "name": "stdout",
          "text": [
            "Epoch 1/100\n",
            "7/7 - 1s - loss: 0.7093 - accuracy: 0.5312 - val_loss: 0.8694 - val_accuracy: 0.3125 - 694ms/epoch - 99ms/step\n",
            "Epoch 2/100\n",
            "7/7 - 0s - loss: 0.6957 - accuracy: 0.5312 - val_loss: 0.8357 - val_accuracy: 0.3125 - 56ms/epoch - 8ms/step\n",
            "Epoch 3/100\n",
            "7/7 - 0s - loss: 0.6857 - accuracy: 0.5312 - val_loss: 0.8140 - val_accuracy: 0.3125 - 50ms/epoch - 7ms/step\n",
            "Epoch 4/100\n",
            "7/7 - 0s - loss: 0.6806 - accuracy: 0.5469 - val_loss: 0.7943 - val_accuracy: 0.3125 - 42ms/epoch - 6ms/step\n",
            "Epoch 5/100\n",
            "7/7 - 0s - loss: 0.6768 - accuracy: 0.5469 - val_loss: 0.7789 - val_accuracy: 0.3125 - 45ms/epoch - 6ms/step\n",
            "Epoch 6/100\n",
            "7/7 - 0s - loss: 0.6750 - accuracy: 0.5625 - val_loss: 0.7697 - val_accuracy: 0.3750 - 42ms/epoch - 6ms/step\n",
            "Epoch 7/100\n",
            "7/7 - 0s - loss: 0.6742 - accuracy: 0.5625 - val_loss: 0.7639 - val_accuracy: 0.3125 - 49ms/epoch - 7ms/step\n",
            "Epoch 8/100\n",
            "7/7 - 0s - loss: 0.6722 - accuracy: 0.5781 - val_loss: 0.7649 - val_accuracy: 0.2500 - 38ms/epoch - 5ms/step\n",
            "Epoch 9/100\n",
            "7/7 - 0s - loss: 0.6709 - accuracy: 0.5781 - val_loss: 0.7662 - val_accuracy: 0.2500 - 45ms/epoch - 6ms/step\n",
            "Epoch 10/100\n",
            "7/7 - 0s - loss: 0.6697 - accuracy: 0.5938 - val_loss: 0.7683 - val_accuracy: 0.2500 - 41ms/epoch - 6ms/step\n",
            "Epoch 11/100\n",
            "7/7 - 0s - loss: 0.6684 - accuracy: 0.5938 - val_loss: 0.7722 - val_accuracy: 0.2500 - 39ms/epoch - 6ms/step\n",
            "Epoch 12/100\n",
            "7/7 - 0s - loss: 0.6680 - accuracy: 0.5938 - val_loss: 0.7790 - val_accuracy: 0.2500 - 53ms/epoch - 8ms/step\n",
            "Epoch 13/100\n",
            "7/7 - 0s - loss: 0.6672 - accuracy: 0.6094 - val_loss: 0.7746 - val_accuracy: 0.2500 - 40ms/epoch - 6ms/step\n",
            "Epoch 14/100\n",
            "7/7 - 0s - loss: 0.6656 - accuracy: 0.6094 - val_loss: 0.7768 - val_accuracy: 0.1875 - 68ms/epoch - 10ms/step\n",
            "Epoch 15/100\n",
            "7/7 - 0s - loss: 0.6647 - accuracy: 0.6094 - val_loss: 0.7784 - val_accuracy: 0.2500 - 43ms/epoch - 6ms/step\n",
            "Epoch 16/100\n",
            "7/7 - 0s - loss: 0.6637 - accuracy: 0.6094 - val_loss: 0.7778 - val_accuracy: 0.2500 - 40ms/epoch - 6ms/step\n",
            "Epoch 17/100\n",
            "7/7 - 0s - loss: 0.6626 - accuracy: 0.6250 - val_loss: 0.7757 - val_accuracy: 0.3125 - 41ms/epoch - 6ms/step\n",
            "Epoch 18/100\n",
            "7/7 - 0s - loss: 0.6615 - accuracy: 0.6250 - val_loss: 0.7779 - val_accuracy: 0.3125 - 39ms/epoch - 6ms/step\n",
            "Epoch 19/100\n",
            "7/7 - 0s - loss: 0.6613 - accuracy: 0.6094 - val_loss: 0.7853 - val_accuracy: 0.1875 - 38ms/epoch - 5ms/step\n",
            "Epoch 20/100\n",
            "7/7 - 0s - loss: 0.6599 - accuracy: 0.6250 - val_loss: 0.7868 - val_accuracy: 0.2500 - 48ms/epoch - 7ms/step\n",
            "Epoch 21/100\n",
            "7/7 - 0s - loss: 0.6590 - accuracy: 0.6250 - val_loss: 0.7897 - val_accuracy: 0.2500 - 37ms/epoch - 5ms/step\n",
            "Epoch 22/100\n",
            "7/7 - 0s - loss: 0.6585 - accuracy: 0.6094 - val_loss: 0.7861 - val_accuracy: 0.1875 - 51ms/epoch - 7ms/step\n",
            "Epoch 23/100\n",
            "7/7 - 0s - loss: 0.6568 - accuracy: 0.6094 - val_loss: 0.7909 - val_accuracy: 0.1875 - 38ms/epoch - 5ms/step\n",
            "Epoch 24/100\n",
            "7/7 - 0s - loss: 0.6558 - accuracy: 0.5781 - val_loss: 0.7933 - val_accuracy: 0.1875 - 45ms/epoch - 6ms/step\n",
            "Epoch 25/100\n",
            "7/7 - 0s - loss: 0.6549 - accuracy: 0.6094 - val_loss: 0.7923 - val_accuracy: 0.1875 - 40ms/epoch - 6ms/step\n",
            "Epoch 26/100\n",
            "7/7 - 0s - loss: 0.6545 - accuracy: 0.6094 - val_loss: 0.7918 - val_accuracy: 0.1875 - 39ms/epoch - 6ms/step\n",
            "Epoch 27/100\n",
            "7/7 - 0s - loss: 0.6530 - accuracy: 0.6094 - val_loss: 0.7951 - val_accuracy: 0.1875 - 38ms/epoch - 5ms/step\n",
            "Epoch 28/100\n",
            "7/7 - 0s - loss: 0.6522 - accuracy: 0.6250 - val_loss: 0.7946 - val_accuracy: 0.1875 - 39ms/epoch - 6ms/step\n",
            "Epoch 29/100\n",
            "7/7 - 0s - loss: 0.6518 - accuracy: 0.5625 - val_loss: 0.7914 - val_accuracy: 0.1875 - 48ms/epoch - 7ms/step\n",
            "Epoch 30/100\n",
            "7/7 - 0s - loss: 0.6500 - accuracy: 0.5781 - val_loss: 0.7926 - val_accuracy: 0.1875 - 38ms/epoch - 5ms/step\n",
            "Epoch 31/100\n",
            "7/7 - 0s - loss: 0.6489 - accuracy: 0.6094 - val_loss: 0.7897 - val_accuracy: 0.1875 - 44ms/epoch - 6ms/step\n",
            "Epoch 32/100\n",
            "7/7 - 0s - loss: 0.6478 - accuracy: 0.6094 - val_loss: 0.7942 - val_accuracy: 0.1875 - 37ms/epoch - 5ms/step\n",
            "Epoch 33/100\n",
            "7/7 - 0s - loss: 0.6474 - accuracy: 0.5938 - val_loss: 0.8004 - val_accuracy: 0.1875 - 37ms/epoch - 5ms/step\n",
            "Epoch 34/100\n",
            "7/7 - 0s - loss: 0.6461 - accuracy: 0.6094 - val_loss: 0.8019 - val_accuracy: 0.1875 - 57ms/epoch - 8ms/step\n",
            "Epoch 35/100\n",
            "7/7 - 0s - loss: 0.6452 - accuracy: 0.6094 - val_loss: 0.8031 - val_accuracy: 0.1875 - 48ms/epoch - 7ms/step\n",
            "Epoch 36/100\n",
            "7/7 - 0s - loss: 0.6452 - accuracy: 0.6250 - val_loss: 0.8021 - val_accuracy: 0.1875 - 40ms/epoch - 6ms/step\n",
            "Epoch 37/100\n",
            "7/7 - 0s - loss: 0.6435 - accuracy: 0.6250 - val_loss: 0.8145 - val_accuracy: 0.1875 - 38ms/epoch - 5ms/step\n",
            "Epoch 38/100\n",
            "7/7 - 0s - loss: 0.6426 - accuracy: 0.6250 - val_loss: 0.8188 - val_accuracy: 0.1875 - 36ms/epoch - 5ms/step\n",
            "Epoch 39/100\n",
            "7/7 - 0s - loss: 0.6415 - accuracy: 0.6250 - val_loss: 0.8182 - val_accuracy: 0.1875 - 42ms/epoch - 6ms/step\n",
            "Epoch 40/100\n",
            "7/7 - 0s - loss: 0.6403 - accuracy: 0.6250 - val_loss: 0.8110 - val_accuracy: 0.1875 - 37ms/epoch - 5ms/step\n",
            "Epoch 41/100\n",
            "7/7 - 0s - loss: 0.6391 - accuracy: 0.6250 - val_loss: 0.8065 - val_accuracy: 0.1875 - 38ms/epoch - 5ms/step\n",
            "Epoch 42/100\n",
            "7/7 - 0s - loss: 0.6379 - accuracy: 0.6250 - val_loss: 0.8042 - val_accuracy: 0.2500 - 41ms/epoch - 6ms/step\n",
            "Epoch 43/100\n",
            "7/7 - 0s - loss: 0.6371 - accuracy: 0.6250 - val_loss: 0.7999 - val_accuracy: 0.1875 - 40ms/epoch - 6ms/step\n",
            "Epoch 44/100\n",
            "7/7 - 0s - loss: 0.6357 - accuracy: 0.6250 - val_loss: 0.8055 - val_accuracy: 0.1875 - 51ms/epoch - 7ms/step\n",
            "Epoch 45/100\n",
            "7/7 - 0s - loss: 0.6353 - accuracy: 0.6094 - val_loss: 0.8144 - val_accuracy: 0.1875 - 38ms/epoch - 5ms/step\n",
            "Epoch 46/100\n",
            "7/7 - 0s - loss: 0.6335 - accuracy: 0.6094 - val_loss: 0.8126 - val_accuracy: 0.1875 - 47ms/epoch - 7ms/step\n",
            "Epoch 47/100\n",
            "7/7 - 0s - loss: 0.6324 - accuracy: 0.6094 - val_loss: 0.8179 - val_accuracy: 0.1250 - 39ms/epoch - 6ms/step\n",
            "Epoch 48/100\n",
            "7/7 - 0s - loss: 0.6313 - accuracy: 0.6094 - val_loss: 0.8182 - val_accuracy: 0.1250 - 51ms/epoch - 7ms/step\n",
            "Epoch 49/100\n",
            "7/7 - 0s - loss: 0.6301 - accuracy: 0.6094 - val_loss: 0.8220 - val_accuracy: 0.1250 - 57ms/epoch - 8ms/step\n",
            "Epoch 50/100\n",
            "7/7 - 0s - loss: 0.6290 - accuracy: 0.6094 - val_loss: 0.8304 - val_accuracy: 0.1250 - 40ms/epoch - 6ms/step\n",
            "Epoch 51/100\n",
            "7/7 - 0s - loss: 0.6284 - accuracy: 0.6250 - val_loss: 0.8320 - val_accuracy: 0.1250 - 43ms/epoch - 6ms/step\n",
            "Epoch 52/100\n",
            "7/7 - 0s - loss: 0.6274 - accuracy: 0.6250 - val_loss: 0.8344 - val_accuracy: 0.1250 - 46ms/epoch - 7ms/step\n",
            "Epoch 53/100\n",
            "7/7 - 0s - loss: 0.6259 - accuracy: 0.6250 - val_loss: 0.8335 - val_accuracy: 0.1250 - 40ms/epoch - 6ms/step\n",
            "Epoch 54/100\n",
            "7/7 - 0s - loss: 0.6250 - accuracy: 0.6250 - val_loss: 0.8335 - val_accuracy: 0.1250 - 46ms/epoch - 7ms/step\n",
            "Epoch 55/100\n",
            "7/7 - 0s - loss: 0.6243 - accuracy: 0.6406 - val_loss: 0.8298 - val_accuracy: 0.1250 - 37ms/epoch - 5ms/step\n",
            "Epoch 56/100\n",
            "7/7 - 0s - loss: 0.6230 - accuracy: 0.6094 - val_loss: 0.8359 - val_accuracy: 0.1250 - 46ms/epoch - 7ms/step\n",
            "Epoch 57/100\n",
            "7/7 - 0s - loss: 0.6229 - accuracy: 0.6406 - val_loss: 0.8439 - val_accuracy: 0.1250 - 39ms/epoch - 6ms/step\n",
            "Epoch 58/100\n",
            "7/7 - 0s - loss: 0.6209 - accuracy: 0.6406 - val_loss: 0.8433 - val_accuracy: 0.1250 - 43ms/epoch - 6ms/step\n",
            "Epoch 59/100\n",
            "7/7 - 0s - loss: 0.6200 - accuracy: 0.6250 - val_loss: 0.8430 - val_accuracy: 0.1250 - 44ms/epoch - 6ms/step\n",
            "Epoch 60/100\n",
            "7/7 - 0s - loss: 0.6191 - accuracy: 0.6250 - val_loss: 0.8374 - val_accuracy: 0.1250 - 55ms/epoch - 8ms/step\n",
            "Epoch 61/100\n",
            "7/7 - 0s - loss: 0.6183 - accuracy: 0.6250 - val_loss: 0.8431 - val_accuracy: 0.1250 - 37ms/epoch - 5ms/step\n",
            "Epoch 62/100\n",
            "7/7 - 0s - loss: 0.6169 - accuracy: 0.6406 - val_loss: 0.8422 - val_accuracy: 0.1875 - 37ms/epoch - 5ms/step\n",
            "Epoch 63/100\n",
            "7/7 - 0s - loss: 0.6160 - accuracy: 0.6406 - val_loss: 0.8439 - val_accuracy: 0.1250 - 39ms/epoch - 6ms/step\n",
            "Epoch 64/100\n",
            "7/7 - 0s - loss: 0.6150 - accuracy: 0.6562 - val_loss: 0.8385 - val_accuracy: 0.1875 - 74ms/epoch - 11ms/step\n",
            "Epoch 65/100\n",
            "7/7 - 0s - loss: 0.6146 - accuracy: 0.6562 - val_loss: 0.8425 - val_accuracy: 0.1250 - 103ms/epoch - 15ms/step\n",
            "Epoch 66/100\n",
            "7/7 - 0s - loss: 0.6131 - accuracy: 0.6562 - val_loss: 0.8410 - val_accuracy: 0.1875 - 66ms/epoch - 9ms/step\n",
            "Epoch 67/100\n",
            "7/7 - 0s - loss: 0.6123 - accuracy: 0.6406 - val_loss: 0.8429 - val_accuracy: 0.1875 - 79ms/epoch - 11ms/step\n",
            "Epoch 68/100\n",
            "7/7 - 0s - loss: 0.6114 - accuracy: 0.6562 - val_loss: 0.8534 - val_accuracy: 0.1250 - 83ms/epoch - 12ms/step\n",
            "Epoch 69/100\n",
            "7/7 - 0s - loss: 0.6104 - accuracy: 0.6562 - val_loss: 0.8519 - val_accuracy: 0.1250 - 78ms/epoch - 11ms/step\n",
            "Epoch 70/100\n",
            "7/7 - 0s - loss: 0.6091 - accuracy: 0.6562 - val_loss: 0.8561 - val_accuracy: 0.1250 - 111ms/epoch - 16ms/step\n",
            "Epoch 71/100\n",
            "7/7 - 0s - loss: 0.6099 - accuracy: 0.6250 - val_loss: 0.8700 - val_accuracy: 0.1250 - 73ms/epoch - 10ms/step\n",
            "Epoch 72/100\n",
            "7/7 - 0s - loss: 0.6075 - accuracy: 0.6406 - val_loss: 0.8621 - val_accuracy: 0.1250 - 75ms/epoch - 11ms/step\n",
            "Epoch 73/100\n",
            "7/7 - 0s - loss: 0.6061 - accuracy: 0.6406 - val_loss: 0.8720 - val_accuracy: 0.1250 - 106ms/epoch - 15ms/step\n",
            "Epoch 74/100\n",
            "7/7 - 0s - loss: 0.6056 - accuracy: 0.6406 - val_loss: 0.8702 - val_accuracy: 0.1250 - 156ms/epoch - 22ms/step\n",
            "Epoch 75/100\n",
            "7/7 - 0s - loss: 0.6043 - accuracy: 0.6406 - val_loss: 0.8752 - val_accuracy: 0.1250 - 140ms/epoch - 20ms/step\n",
            "Epoch 76/100\n",
            "7/7 - 0s - loss: 0.6034 - accuracy: 0.6406 - val_loss: 0.8705 - val_accuracy: 0.1250 - 98ms/epoch - 14ms/step\n",
            "Epoch 77/100\n",
            "7/7 - 0s - loss: 0.6024 - accuracy: 0.6562 - val_loss: 0.8721 - val_accuracy: 0.1250 - 79ms/epoch - 11ms/step\n",
            "Epoch 78/100\n",
            "7/7 - 0s - loss: 0.6015 - accuracy: 0.6562 - val_loss: 0.8777 - val_accuracy: 0.1250 - 81ms/epoch - 12ms/step\n",
            "Epoch 79/100\n",
            "7/7 - 0s - loss: 0.6012 - accuracy: 0.6406 - val_loss: 0.8876 - val_accuracy: 0.1250 - 41ms/epoch - 6ms/step\n",
            "Epoch 80/100\n",
            "7/7 - 0s - loss: 0.6001 - accuracy: 0.6250 - val_loss: 0.8869 - val_accuracy: 0.1250 - 45ms/epoch - 6ms/step\n",
            "Epoch 81/100\n",
            "7/7 - 0s - loss: 0.5994 - accuracy: 0.6250 - val_loss: 0.8941 - val_accuracy: 0.1250 - 41ms/epoch - 6ms/step\n",
            "Epoch 82/100\n",
            "7/7 - 0s - loss: 0.5985 - accuracy: 0.6406 - val_loss: 0.8868 - val_accuracy: 0.1250 - 46ms/epoch - 7ms/step\n",
            "Epoch 83/100\n",
            "7/7 - 0s - loss: 0.5972 - accuracy: 0.6406 - val_loss: 0.8885 - val_accuracy: 0.1250 - 42ms/epoch - 6ms/step\n",
            "Epoch 84/100\n",
            "7/7 - 0s - loss: 0.5965 - accuracy: 0.6406 - val_loss: 0.8949 - val_accuracy: 0.1250 - 64ms/epoch - 9ms/step\n",
            "Epoch 85/100\n",
            "7/7 - 0s - loss: 0.5954 - accuracy: 0.6406 - val_loss: 0.8944 - val_accuracy: 0.1250 - 40ms/epoch - 6ms/step\n",
            "Epoch 86/100\n",
            "7/7 - 0s - loss: 0.5950 - accuracy: 0.6406 - val_loss: 0.8854 - val_accuracy: 0.1250 - 47ms/epoch - 7ms/step\n",
            "Epoch 87/100\n",
            "7/7 - 0s - loss: 0.5944 - accuracy: 0.6406 - val_loss: 0.8862 - val_accuracy: 0.1250 - 45ms/epoch - 6ms/step\n",
            "Epoch 88/100\n",
            "7/7 - 0s - loss: 0.5925 - accuracy: 0.6406 - val_loss: 0.8959 - val_accuracy: 0.1250 - 46ms/epoch - 7ms/step\n",
            "Epoch 89/100\n",
            "7/7 - 0s - loss: 0.5920 - accuracy: 0.6406 - val_loss: 0.8914 - val_accuracy: 0.1250 - 39ms/epoch - 6ms/step\n",
            "Epoch 90/100\n",
            "7/7 - 0s - loss: 0.5906 - accuracy: 0.6562 - val_loss: 0.9016 - val_accuracy: 0.1250 - 39ms/epoch - 6ms/step\n",
            "Epoch 91/100\n",
            "7/7 - 0s - loss: 0.5894 - accuracy: 0.6406 - val_loss: 0.9015 - val_accuracy: 0.1250 - 45ms/epoch - 6ms/step\n",
            "Epoch 92/100\n",
            "7/7 - 0s - loss: 0.5902 - accuracy: 0.6562 - val_loss: 0.8949 - val_accuracy: 0.1250 - 44ms/epoch - 6ms/step\n",
            "Epoch 93/100\n",
            "7/7 - 0s - loss: 0.5887 - accuracy: 0.6562 - val_loss: 0.8926 - val_accuracy: 0.1250 - 44ms/epoch - 6ms/step\n",
            "Epoch 94/100\n",
            "7/7 - 0s - loss: 0.5875 - accuracy: 0.6562 - val_loss: 0.9061 - val_accuracy: 0.1250 - 49ms/epoch - 7ms/step\n",
            "Epoch 95/100\n",
            "7/7 - 0s - loss: 0.5862 - accuracy: 0.6562 - val_loss: 0.9133 - val_accuracy: 0.1250 - 45ms/epoch - 6ms/step\n",
            "Epoch 96/100\n",
            "7/7 - 0s - loss: 0.5857 - accuracy: 0.6562 - val_loss: 0.9127 - val_accuracy: 0.1250 - 39ms/epoch - 6ms/step\n",
            "Epoch 97/100\n",
            "7/7 - 0s - loss: 0.5852 - accuracy: 0.6719 - val_loss: 0.9044 - val_accuracy: 0.1250 - 37ms/epoch - 5ms/step\n",
            "Epoch 98/100\n",
            "7/7 - 0s - loss: 0.5847 - accuracy: 0.6562 - val_loss: 0.9061 - val_accuracy: 0.1250 - 39ms/epoch - 6ms/step\n",
            "Epoch 99/100\n",
            "7/7 - 0s - loss: 0.5840 - accuracy: 0.6562 - val_loss: 0.9189 - val_accuracy: 0.1250 - 48ms/epoch - 7ms/step\n",
            "Epoch 100/100\n",
            "7/7 - 0s - loss: 0.5825 - accuracy: 0.6562 - val_loss: 0.9063 - val_accuracy: 0.1250 - 60ms/epoch - 9ms/step\n"
          ]
        }
      ]
    },
    {
      "cell_type": "markdown",
      "source": [
        "To visualize the training process of a neural network, we can use a plot library such as Matplotlib to plot the loss and any other metrics we are tracking over time. In TensorFlow, the fit method of the Sequential class returns a History object that contains the values of the loss and any other metrics at each epoch. \n",
        "\n",
        "* Validation loss is a measure of how well a trained model performs on a validation dataset, which is a dataset that is separate from the training and test datasets. It is used to evaluate the model's ability to generalize to new data, and is typically calculated by applying the model to the validation dataset and measuring the difference between the predicted values and the true values.\n",
        "\n",
        "* Training loss is a measure of how well a model is able to fit the training data. It is calculated by applying the model to the training data and measuring the difference between the predicted values and the true values.\n",
        "\n",
        "We can access these values by accessing the appropriate attributes of the History object. For example, to plot the training and validation loss during training, we can use the following code:"
      ],
      "metadata": {
        "id": "wK4Pi-KCD0zr"
      }
    },
    {
      "cell_type": "code",
      "source": [
        "import matplotlib.pyplot as plt\n",
        "\n",
        "# Extract the training and validation loss values\n",
        "train_loss = history.history['loss']\n",
        "val_loss = history.history['val_loss']\n",
        "\n",
        "# Plot the training and validation loss\n",
        "plt.plot(train_loss, label='Training Loss')\n",
        "plt.plot(val_loss, label='Validation Loss')\n",
        "plt.xlabel('Epoch')\n",
        "plt.ylabel('Loss')\n",
        "plt.legend()\n",
        "plt.show()\n"
      ],
      "metadata": {
        "colab": {
          "base_uri": "https://localhost:8080/",
          "height": 279
        },
        "id": "wdpKM5FdD3zJ",
        "outputId": "5804f8ac-d892-48c5-a1e1-872138a064a0"
      },
      "execution_count": 154,
      "outputs": [
        {
          "output_type": "display_data",
          "data": {
            "text/plain": [
              "<Figure size 432x288 with 1 Axes>"
            ],
            "image/png": "[encoded data removed]"
          },
          "metadata": {
            "needs_background": "light"
          }
        }
      ]
    },
    {
      "cell_type": "markdown",
      "source": [
        "To visualize the architecture of a neural network, we can use a graph library such as `pydot` and `graphviz` to create a diagram of the layers and their sizes. In TensorFlow, we can access the structure of a model by calling the summary method of the Sequential class. This will print a summary of the model, including the number of parameters and the output shape of each layer. We can then use this information to create a diagram of the model using the pydot and graphviz libraries.\n",
        "\n",
        "First, we need to install these libraries using the following commands:"
      ],
      "metadata": {
        "id": "TppS5oFhEBjy"
      }
    },
    {
      "cell_type": "code",
      "source": [
        "!pip install pydot\n",
        "!apt-get install graphviz\n"
      ],
      "metadata": {
        "colab": {
          "base_uri": "https://localhost:8080/"
        },
        "id": "L7mMLHMdEGUz",
        "outputId": "cf3de444-de06-4472-d191-e6957af87efa"
      },
      "execution_count": 155,
      "outputs": [
        {
          "output_type": "stream",
          "name": "stdout",
          "text": [
            "Looking in indexes: https://pypi.org/simple, https://us-python.pkg.dev/colab-wheels/public/simple/\n",
            "Requirement already satisfied: pydot in /usr/local/lib/python3.8/dist-packages (1.3.0)\n",
            "Requirement already satisfied: pyparsing>=2.1.4 in /usr/local/lib/python3.8/dist-packages (from pydot) (3.0.9)\n",
            "Reading package lists... Done\n",
            "Building dependency tree       \n",
            "Reading state information... Done\n",
            "graphviz is already the newest version (2.40.1-2).\n",
            "The following package was automatically installed and is no longer required:\n",
            "  libnvidia-common-460\n",
            "Use 'apt autoremove' to remove it.\n",
            "0 upgraded, 0 newly installed, 0 to remove and 7 not upgraded.\n"
          ]
        }
      ]
    },
    {
      "cell_type": "code",
      "source": [
        "from tensorflow.keras.utils import plot_model\n",
        "\n",
        "# Print a summary of the model\n",
        "model.summary()\n",
        "\n",
        "# Create a diagram of the model\n",
        "plot_model(model, show_shapes=True, show_layer_names=True)\n"
      ],
      "metadata": {
        "colab": {
          "base_uri": "https://localhost:8080/",
          "height": 690
        },
        "id": "mIcaZRF6EJuL",
        "outputId": "f4331cd7-7da1-45f4-a7b8-a8d13ac37c48"
      },
      "execution_count": 156,
      "outputs": [
        {
          "output_type": "stream",
          "name": "stdout",
          "text": [
            "Model: \"sequential_10\"\n",
            "_________________________________________________________________\n",
            " Layer (type)                Output Shape              Param #   \n",
            "=================================================================\n",
            " dense_27 (Dense)            (None, 10)                110       \n",
            "                                                                 \n",
            " dense_28 (Dense)            (None, 10)                110       \n",
            "                                                                 \n",
            " dense_29 (Dense)            (None, 1)                 11        \n",
            "                                                                 \n",
            "=================================================================\n",
            "Total params: 231\n",
            "Trainable params: 231\n",
            "Non-trainable params: 0\n",
            "_________________________________________________________________\n"
          ]
        },
        {
          "output_type": "execute_result",
          "data": {
            "image/png": "[encoded data removed]",
            "text/plain": [
              "<IPython.core.display.Image object>"
            ]
          },
          "metadata": {},
          "execution_count": 156
        }
      ]
    }
  ]
}